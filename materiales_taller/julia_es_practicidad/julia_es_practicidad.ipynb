{
 "cells": [
  {
   "cell_type": "markdown",
   "id": "5e4110ed-b8b7-4304-9099-3a631bbd72ac",
   "metadata": {
    "tags": []
   },
   "source": [
    "# Julia es practicidad"
   ]
  },
  {
   "cell_type": "markdown",
   "id": "b5b5d089-3883-4f8c-a831-28b661770056",
   "metadata": {
    "jp-MarkdownHeadingCollapsed": true,
    "tags": []
   },
   "source": [
    "## Elementos básicos del lenguaje\n",
    "\n",
    "[Documentación oficial](https://docs.julialang.org/en/v1/)"
   ]
  },
  {
   "cell_type": "markdown",
   "id": "7b987dc7-6815-452c-945f-c93e428e0026",
   "metadata": {
    "jp-MarkdownHeadingCollapsed": true,
    "tags": []
   },
   "source": [
    "### Booleanos"
   ]
  },
  {
   "cell_type": "code",
   "execution_count": null,
   "id": "673e7555-8642-4824-ad69-a6097a1bf348",
   "metadata": {},
   "outputs": [],
   "source": [
    "true"
   ]
  },
  {
   "cell_type": "code",
   "execution_count": null,
   "id": "5bf3d92a-4110-47e0-9d5f-9a618c2017bf",
   "metadata": {},
   "outputs": [],
   "source": [
    "false"
   ]
  },
  {
   "cell_type": "code",
   "execution_count": null,
   "id": "5ec9958c-b508-4b40-9bf7-6383b1cb41ff",
   "metadata": {},
   "outputs": [],
   "source": [
    "true & false"
   ]
  },
  {
   "cell_type": "markdown",
   "id": "58bacd06-2ec3-4c73-8840-0abbf957a09f",
   "metadata": {
    "jp-MarkdownHeadingCollapsed": true,
    "tags": []
   },
   "source": [
    "### Números"
   ]
  },
  {
   "cell_type": "code",
   "execution_count": null,
   "id": "931a087d-7ae1-4c77-9433-b510a89b74ec",
   "metadata": {},
   "outputs": [],
   "source": [
    "1 + 2"
   ]
  },
  {
   "cell_type": "code",
   "execution_count": null,
   "id": "e561ed3b-a395-4a82-9d0e-3315a32a0200",
   "metadata": {},
   "outputs": [],
   "source": [
    "1 + 2.0"
   ]
  },
  {
   "cell_type": "code",
   "execution_count": null,
   "id": "d789040f-86bf-4274-85ef-c17d222b9ac4",
   "metadata": {},
   "outputs": [],
   "source": [
    "1 / 0"
   ]
  },
  {
   "cell_type": "code",
   "execution_count": null,
   "id": "d5e4b35f-5486-46cc-9e14-04b48a916361",
   "metadata": {},
   "outputs": [],
   "source": [
    "NaN + 1"
   ]
  },
  {
   "cell_type": "code",
   "execution_count": null,
   "id": "5e2acc80-d929-49ba-95f6-e60fb6b403e7",
   "metadata": {},
   "outputs": [],
   "source": [
    "2 // 4"
   ]
  },
  {
   "cell_type": "markdown",
   "id": "8db60048-1910-4c56-b63d-1164cbd0be9c",
   "metadata": {
    "jp-MarkdownHeadingCollapsed": true,
    "tags": []
   },
   "source": [
    "### Caracteres y Cadenas (*Strings*)"
   ]
  },
  {
   "cell_type": "code",
   "execution_count": null,
   "id": "0c30418b-e3e5-4419-a499-93ec8ae85e27",
   "metadata": {},
   "outputs": [],
   "source": [
    "'A'"
   ]
  },
  {
   "cell_type": "code",
   "execution_count": null,
   "id": "b73244c9-e3d2-4d96-88a8-3f3677d51cad",
   "metadata": {},
   "outputs": [],
   "source": [
    "\"A\""
   ]
  },
  {
   "cell_type": "code",
   "execution_count": null,
   "id": "8766a0b1-9290-475f-8357-35819164f0b0",
   "metadata": {},
   "outputs": [],
   "source": [
    "saludo = \"Hola SciPy Latam\""
   ]
  },
  {
   "cell_type": "code",
   "execution_count": null,
   "id": "7302f20e-7deb-4d63-9f37-701947e79f00",
   "metadata": {},
   "outputs": [],
   "source": [
    "desde = \"desde Salta!!\""
   ]
  },
  {
   "cell_type": "code",
   "execution_count": null,
   "id": "30992650-aead-4bb5-9941-7dd7b7ee0584",
   "metadata": {},
   "outputs": [],
   "source": [
    "mensaje = saludo * \", \" * desde"
   ]
  },
  {
   "cell_type": "code",
   "execution_count": null,
   "id": "c5c6f628-581d-446b-800a-680eacc53779",
   "metadata": {},
   "outputs": [],
   "source": [
    "\"S $ans\""
   ]
  },
  {
   "cell_type": "code",
   "execution_count": null,
   "id": "955e02e9-90fa-48ff-8452-a6ea55473e2e",
   "metadata": {},
   "outputs": [],
   "source": [
    "\"B $(ans * ans)\""
   ]
  },
  {
   "cell_type": "markdown",
   "id": "9974a820-e4e1-4fdb-ab41-b65a8ec3a6b0",
   "metadata": {
    "jp-MarkdownHeadingCollapsed": true,
    "tags": []
   },
   "source": [
    "### Símbolos "
   ]
  },
  {
   "cell_type": "code",
   "execution_count": null,
   "id": "2577206b-2b53-473d-a32f-c519ac298694",
   "metadata": {},
   "outputs": [],
   "source": [
    "simbolo = :simple"
   ]
  },
  {
   "cell_type": "markdown",
   "id": "d33c5dea-2dfd-4d1b-8501-62647f054009",
   "metadata": {
    "jp-MarkdownHeadingCollapsed": true,
    "tags": []
   },
   "source": [
    "## Colecciones y Estructuras de Datos"
   ]
  },
  {
   "cell_type": "markdown",
   "id": "b9ad1b63-1dfb-4ab4-9f68-07a7402e16df",
   "metadata": {
    "jp-MarkdownHeadingCollapsed": true,
    "tags": []
   },
   "source": [
    "### Arreglos (*Arrays*), Matrices y Vectores"
   ]
  },
  {
   "cell_type": "code",
   "execution_count": null,
   "id": "1909c109-21f2-4245-bcf7-9e19b3c97413",
   "metadata": {},
   "outputs": [],
   "source": [
    "A = [1 2 3]"
   ]
  },
  {
   "cell_type": "code",
   "execution_count": null,
   "id": "f7e1cb4e-f0a9-459f-b4f6-ab6d67793b06",
   "metadata": {},
   "outputs": [],
   "source": [
    "B = [1,2,3]"
   ]
  },
  {
   "cell_type": "code",
   "execution_count": null,
   "id": "48443b2c-2a4a-43d7-9e24-e37e4e36f1fc",
   "metadata": {},
   "outputs": [],
   "source": [
    "C = [ 1 2 \n",
    "      3 4 ]"
   ]
  },
  {
   "cell_type": "code",
   "execution_count": null,
   "id": "2c7c2ea1-5bc7-4f30-b0c7-6f7f0979160a",
   "metadata": {},
   "outputs": [],
   "source": [
    "D = [ 1;2;3 ]"
   ]
  },
  {
   "cell_type": "markdown",
   "id": "b620d83c-936a-4e03-b165-ebea3516a59d",
   "metadata": {
    "jp-MarkdownHeadingCollapsed": true,
    "tags": []
   },
   "source": [
    "### Tuplas, Diccionarios y *Sets*"
   ]
  },
  {
   "cell_type": "code",
   "execution_count": null,
   "id": "c4e92c2c-86d8-49d5-bb95-a686a2e3a87c",
   "metadata": {},
   "outputs": [],
   "source": [
    "t = (1,\"S\")"
   ]
  },
  {
   "cell_type": "code",
   "execution_count": null,
   "id": "7de5d045-d112-43e6-b95b-de3c285fb9f0",
   "metadata": {},
   "outputs": [],
   "source": [
    "d = Dict([t,(2,\"S\")])"
   ]
  },
  {
   "cell_type": "code",
   "execution_count": null,
   "id": "49821985-1b43-41a8-b8bd-a79699040e0e",
   "metadata": {},
   "outputs": [],
   "source": [
    "d2 = Dict(\"evento\"=>\"SciPy\",\"lugar\"=>\"Salta\")"
   ]
  },
  {
   "cell_type": "code",
   "execution_count": null,
   "id": "179f0527-fb02-4879-ab0b-e6ec9decf130",
   "metadata": {},
   "outputs": [],
   "source": [
    "d2[\"evento\"]"
   ]
  },
  {
   "cell_type": "code",
   "execution_count": null,
   "id": "d80ce028-2107-4f8c-ac68-aeabf85c9b1d",
   "metadata": {},
   "outputs": [],
   "source": [
    "s = Set([1,2,2,1,3,4,4])"
   ]
  },
  {
   "cell_type": "code",
   "execution_count": null,
   "id": "d43ead62-8ca2-4d1f-a60c-4a52285a5a75",
   "metadata": {},
   "outputs": [],
   "source": [
    "s1, s2 = Set(saludo), Set(desde)"
   ]
  },
  {
   "cell_type": "code",
   "execution_count": null,
   "id": "dd392f90-fb17-438e-8ceb-514c934d810c",
   "metadata": {},
   "outputs": [],
   "source": [
    "'a' ∈ s2"
   ]
  },
  {
   "cell_type": "code",
   "execution_count": null,
   "id": "6c67b32b-0b52-4ee8-aaf9-9fb9eec8bcba",
   "metadata": {},
   "outputs": [],
   "source": [
    "s1 ∪ s2 "
   ]
  },
  {
   "cell_type": "code",
   "execution_count": null,
   "id": "2ca48837-daf5-453f-babc-b06160939d85",
   "metadata": {},
   "outputs": [],
   "source": [
    "s1 ∩ s2"
   ]
  },
  {
   "cell_type": "markdown",
   "id": "325b5cb4-ec3a-44ae-af89-288849e930fb",
   "metadata": {
    "jp-MarkdownHeadingCollapsed": true,
    "tags": []
   },
   "source": [
    "### Structs"
   ]
  },
  {
   "cell_type": "code",
   "execution_count": null,
   "id": "a8ab55df-4fb7-44f2-b13c-862ea81371dd",
   "metadata": {},
   "outputs": [],
   "source": [
    "struct Estructura\n",
    "    nombre\n",
    "    elementos\n",
    "end"
   ]
  },
  {
   "cell_type": "code",
   "execution_count": null,
   "id": "3f4e4c1a-3475-4bca-beb6-88909d4fc2fa",
   "metadata": {},
   "outputs": [],
   "source": [
    "Estructura(\"Hola\",[\"m\",\"u\",\"n\"])"
   ]
  },
  {
   "cell_type": "markdown",
   "id": "9dfd419d-e29f-4da3-b822-b01b52575c4d",
   "metadata": {
    "jp-MarkdownHeadingCollapsed": true,
    "tags": []
   },
   "source": [
    "### Rangos"
   ]
  },
  {
   "cell_type": "code",
   "execution_count": null,
   "id": "b3b2ad22-6cc9-4d78-bf64-ee26fc93ff4c",
   "metadata": {},
   "outputs": [],
   "source": [
    "r = range(0,1,10)"
   ]
  },
  {
   "cell_type": "code",
   "execution_count": null,
   "id": "43182a88-e562-4f84-8642-fa62454f2da7",
   "metadata": {},
   "outputs": [],
   "source": [
    "r2 = -1:0.01:1"
   ]
  },
  {
   "cell_type": "markdown",
   "id": "d207179e-2a05-4805-8b17-c34a95248243",
   "metadata": {
    "jp-MarkdownHeadingCollapsed": true,
    "tags": []
   },
   "source": [
    "## Iteraciones"
   ]
  },
  {
   "cell_type": "code",
   "execution_count": null,
   "id": "cf957ca9-6443-4a14-9c17-245e4e7eeb3b",
   "metadata": {},
   "outputs": [],
   "source": [
    "🐇 = 1\n",
    "\n",
    "for 🥕 in [1, 2, 3, 4, ]\n",
    "    🐇 += 🥕 \n",
    "end\n",
    "\n",
    "🐇"
   ]
  },
  {
   "cell_type": "code",
   "execution_count": null,
   "id": "de978c95-e395-4cfa-8747-176a85b10315",
   "metadata": {},
   "outputs": [],
   "source": [
    "x = 0\n",
    "for i ∈ 1:5, j ∈ 1:0.1:2\n",
    "    x += i*j\n",
    "end"
   ]
  },
  {
   "cell_type": "code",
   "execution_count": null,
   "id": "54d1dca3-68bc-4c2b-94f9-1146a20e4fe4",
   "metadata": {},
   "outputs": [],
   "source": [
    "x"
   ]
  },
  {
   "cell_type": "code",
   "execution_count": null,
   "id": "29408a1f-0269-4717-b679-7175b95584f2",
   "metadata": {},
   "outputs": [],
   "source": [
    "[ x*2 for x in range(0,1,20) ]"
   ]
  },
  {
   "cell_type": "code",
   "execution_count": null,
   "id": "aff39103-5464-4830-a2d8-5b40eb52c231",
   "metadata": {},
   "outputs": [],
   "source": [
    "M = [ x*y for x in range(0,1,5), y in 0:3 ]"
   ]
  },
  {
   "cell_type": "markdown",
   "id": "3ae45c10-0e7b-485a-8be3-8cba53df4069",
   "metadata": {
    "jp-MarkdownHeadingCollapsed": true,
    "tags": []
   },
   "source": [
    "## Indexación y *slicing*"
   ]
  },
  {
   "cell_type": "code",
   "execution_count": null,
   "id": "09c059f8-6459-4e67-a277-ff4f0efdb079",
   "metadata": {},
   "outputs": [],
   "source": [
    "mensaje[0]"
   ]
  },
  {
   "cell_type": "code",
   "execution_count": null,
   "id": "e464c500-02f2-40b4-ab16-5b261124ccb8",
   "metadata": {},
   "outputs": [],
   "source": [
    "mensaje[1]"
   ]
  },
  {
   "cell_type": "code",
   "execution_count": null,
   "id": "aba77391-36bd-4661-bc47-daaad55adcdd",
   "metadata": {},
   "outputs": [],
   "source": [
    "mensaje[begin+3:end-3]"
   ]
  },
  {
   "cell_type": "code",
   "execution_count": null,
   "id": "2d24ff95-169e-4a77-b905-300af244c7ca",
   "metadata": {},
   "outputs": [],
   "source": [
    "mensaje[[1,3,5]]"
   ]
  },
  {
   "cell_type": "code",
   "execution_count": null,
   "id": "c25cf386-1e3d-4fec-afa9-c4e341984fe8",
   "metadata": {},
   "outputs": [],
   "source": [
    "M[1,1]"
   ]
  },
  {
   "cell_type": "code",
   "execution_count": null,
   "id": "dae96c56-4bd4-4b07-9281-21d3a4744916",
   "metadata": {},
   "outputs": [],
   "source": [
    "M[:,2]"
   ]
  },
  {
   "cell_type": "code",
   "execution_count": null,
   "id": "db3a7dea-c877-405f-bde8-12e0c4211ce4",
   "metadata": {},
   "outputs": [],
   "source": [
    "M[3,1:2]"
   ]
  },
  {
   "cell_type": "code",
   "execution_count": null,
   "id": "3301579b-032d-449d-a8a4-5d244c88c2ef",
   "metadata": {},
   "outputs": [],
   "source": [
    "M[[1,2],end-2]"
   ]
  },
  {
   "cell_type": "markdown",
   "id": "e35ea7f1-dc5c-4d73-8eff-a59fc7bb109a",
   "metadata": {
    "tags": []
   },
   "source": [
    "## Funciones"
   ]
  },
  {
   "cell_type": "code",
   "execution_count": null,
   "id": "f515af84-8920-4539-968b-514a8f95f3d6",
   "metadata": {},
   "outputs": [],
   "source": [
    "f(x) = x^2"
   ]
  },
  {
   "cell_type": "code",
   "execution_count": null,
   "id": "2c719279-3695-4c41-a57a-78eccce0008a",
   "metadata": {},
   "outputs": [],
   "source": [
    "function f(x,y)\n",
    "    x+y\n",
    "end"
   ]
  },
  {
   "cell_type": "code",
   "execution_count": null,
   "id": "ac77bca0-23ff-452d-b4b1-9470473ed785",
   "metadata": {},
   "outputs": [],
   "source": [
    "methods(f)"
   ]
  },
  {
   "cell_type": "code",
   "execution_count": null,
   "id": "b073139d-6c62-4950-94ce-75048ca23a2b",
   "metadata": {},
   "outputs": [],
   "source": [
    "function f(x ; n=10)\n",
    "    for i in 1:n\n",
    "        x += x^i\n",
    "    end\n",
    "    x\n",
    "end"
   ]
  },
  {
   "cell_type": "code",
   "execution_count": null,
   "id": "923715b2-b52d-4850-9044-9eb9c941df6f",
   "metadata": {},
   "outputs": [],
   "source": [
    "G(f,y) = f(y+2)"
   ]
  },
  {
   "cell_type": "code",
   "execution_count": null,
   "id": "8b7e1562-cfe0-4a6d-9688-a89fbc5c314b",
   "metadata": {},
   "outputs": [],
   "source": [
    "G(x-> x+5, 2)"
   ]
  },
  {
   "cell_type": "markdown",
   "id": "47f18da9-fddb-4330-b1bd-d7edcf8747df",
   "metadata": {
    "tags": []
   },
   "source": [
    "### Funciones útiles"
   ]
  },
  {
   "cell_type": "code",
   "execution_count": null,
   "id": "493bb1ca-7337-42f6-a14d-c46dc1742cbe",
   "metadata": {},
   "outputs": [],
   "source": [
    "length(1:0.001:10)"
   ]
  },
  {
   "cell_type": "code",
   "execution_count": null,
   "id": "c567dedd-d36e-4497-8c43-fd4aea370637",
   "metadata": {},
   "outputs": [],
   "source": [
    "collect(1:10)"
   ]
  },
  {
   "cell_type": "code",
   "execution_count": null,
   "id": "ed8d769b-36b2-4fe0-ae84-b6932ed86b30",
   "metadata": {},
   "outputs": [],
   "source": [
    "println(\"4\")"
   ]
  },
  {
   "cell_type": "code",
   "execution_count": null,
   "id": "a93aeb6d-b1a4-4d4d-ab22-4b5b50a4bf2d",
   "metadata": {},
   "outputs": [],
   "source": [
    "show([10,\"asd\"])"
   ]
  },
  {
   "cell_type": "code",
   "execution_count": null,
   "id": "5fade601-6fb1-4fb5-82e7-9441c41bd6ed",
   "metadata": {},
   "outputs": [],
   "source": [
    "display([11,\"fgh\"])"
   ]
  },
  {
   "cell_type": "markdown",
   "id": "1a82103c-4d28-4995-8852-66ca0ed25384",
   "metadata": {},
   "source": [
    "#### Matemáticas"
   ]
  },
  {
   "cell_type": "code",
   "execution_count": null,
   "id": "884634a5-77c6-46df-bfca-3ba58c1f2b70",
   "metadata": {},
   "outputs": [],
   "source": [
    "funciones = [sin, cos, exp, exp10, log, log2, tan]"
   ]
  },
  {
   "cell_type": "markdown",
   "id": "b798e2fe-a089-4675-9fcb-30f811030c6d",
   "metadata": {},
   "source": [
    "#### Patrones de Programación Funcional"
   ]
  },
  {
   "cell_type": "code",
   "execution_count": null,
   "id": "3743fd70-5680-43c3-9c0d-013a40ee4194",
   "metadata": {
    "tags": []
   },
   "outputs": [],
   "source": [
    "map(println, collect(mensaje))"
   ]
  },
  {
   "cell_type": "code",
   "execution_count": null,
   "id": "944847ba-0c87-4a84-b831-d81306e846ae",
   "metadata": {},
   "outputs": [],
   "source": [
    "filter(x -> x> 0, -1:0.1:1)"
   ]
  },
  {
   "cell_type": "code",
   "execution_count": null,
   "id": "891bb9bd-16ab-4b34-b31a-3a467273facb",
   "metadata": {},
   "outputs": [],
   "source": [
    "reduce( (x,y) -> x + 2y,  1:9)"
   ]
  },
  {
   "cell_type": "code",
   "execution_count": null,
   "id": "0b1135f8-eac3-4819-b1b7-a0db69dad5dd",
   "metadata": {},
   "outputs": [],
   "source": [
    "reducer = [ all, any, sum, prod, max, min ]"
   ]
  },
  {
   "cell_type": "markdown",
   "id": "bd2b3294-ac55-4351-8a4e-76f74bfce35d",
   "metadata": {},
   "source": [
    "#### Utilidades"
   ]
  },
  {
   "cell_type": "code",
   "execution_count": null,
   "id": "0696744e-1601-4419-a162-9c31f1a06ae7",
   "metadata": {},
   "outputs": [],
   "source": [
    "?reduce"
   ]
  },
  {
   "cell_type": "markdown",
   "id": "85d0526f-e902-4a9b-8617-12fa128136b0",
   "metadata": {},
   "source": [
    "#### Notación de **do**  "
   ]
  },
  {
   "cell_type": "code",
   "execution_count": null,
   "id": "637ccd16-f69f-4c95-b75d-bbe7008463ad",
   "metadata": {},
   "outputs": [],
   "source": [
    "filter(1:0.1:10) do x\n",
    "    s = string(x)\n",
    "    occursin(\"9\", s) && startswith(s,\"9\")\n",
    "end"
   ]
  },
  {
   "cell_type": "markdown",
   "id": "985f1897-7da8-4e17-a689-8228eaa233bb",
   "metadata": {
    "jp-MarkdownHeadingCollapsed": true,
    "tags": []
   },
   "source": [
    "## Broadcasting"
   ]
  },
  {
   "cell_type": "code",
   "execution_count": null,
   "id": "6988b0a6-37c6-4a1b-b933-2bf354e4522c",
   "metadata": {},
   "outputs": [],
   "source": [
    "x = rand(10)"
   ]
  },
  {
   "cell_type": "code",
   "execution_count": null,
   "id": "0ba325ad-3ee1-499d-a1f4-e0ee125064e8",
   "metadata": {},
   "outputs": [],
   "source": [
    "x .+ 2"
   ]
  },
  {
   "cell_type": "code",
   "execution_count": null,
   "id": "06420c76-7492-4b4d-abd5-a2cdfb726337",
   "metadata": {},
   "outputs": [],
   "source": [
    "x .^ 2"
   ]
  },
  {
   "cell_type": "code",
   "execution_count": null,
   "id": "2d4fd737-bf0a-45b7-a9fd-3b95ba1a29f8",
   "metadata": {},
   "outputs": [],
   "source": [
    "b(x) = max(x,0.5)"
   ]
  },
  {
   "cell_type": "code",
   "execution_count": null,
   "id": "23b33aea-ac3f-4549-994d-ad2c232f51d6",
   "metadata": {},
   "outputs": [],
   "source": [
    "b.(x)"
   ]
  },
  {
   "cell_type": "code",
   "execution_count": null,
   "id": "58354c4b-a7f1-48e1-9c47-c58e611d8ae3",
   "metadata": {},
   "outputs": [],
   "source": [
    "min.(x,0.5)"
   ]
  },
  {
   "cell_type": "markdown",
   "id": "48ad311e-2730-4735-99d8-cd8331db971b",
   "metadata": {
    "jp-MarkdownHeadingCollapsed": true,
    "tags": []
   },
   "source": [
    "## Contextos y control de flujo"
   ]
  },
  {
   "cell_type": "code",
   "execution_count": null,
   "id": "df09b1bc-1519-41dc-85a6-89b2003db78f",
   "metadata": {},
   "outputs": [],
   "source": [
    " y = begin \n",
    "    x = 1:3\n",
    "    o = 1\n",
    "    for i in x\n",
    "        o *= i\n",
    "    end\n",
    "    o\n",
    "end"
   ]
  },
  {
   "cell_type": "code",
   "execution_count": null,
   "id": "6bcf2991-20e2-4fd5-93f0-fa135930d0eb",
   "metadata": {},
   "outputs": [],
   "source": [
    "o"
   ]
  },
  {
   "cell_type": "code",
   "execution_count": null,
   "id": "052b2d36-d278-4cd2-9765-c5d8976f7242",
   "metadata": {},
   "outputs": [],
   "source": [
    "x = 5\n",
    "z = let \n",
    "    o = 5\n",
    "    if x < 2 && x != 0\n",
    "        println(\"$x < 2\")\n",
    "        o /= x\n",
    "    elseif x == 0\n",
    "        println(\"x == 0\")\n",
    "    else\n",
    "        o += x\n",
    "    end\n",
    "    println(\"o = $o\")\n",
    "    o\n",
    "end"
   ]
  },
  {
   "cell_type": "code",
   "execution_count": null,
   "id": "af550af3-d25d-4940-9316-49dc17e6a4ec",
   "metadata": {},
   "outputs": [],
   "source": [
    "o"
   ]
  },
  {
   "cell_type": "markdown",
   "id": "3e2c55bf-1fdf-40e4-9c35-f38c1ae4d9cd",
   "metadata": {
    "jp-MarkdownHeadingCollapsed": true,
    "tags": []
   },
   "source": [
    "## Macros"
   ]
  },
  {
   "cell_type": "code",
   "execution_count": null,
   "id": "e8298d7a-447c-48d1-9cab-89dbc9005a4e",
   "metadata": {},
   "outputs": [],
   "source": [
    "@which sum(1:2)"
   ]
  },
  {
   "cell_type": "code",
   "execution_count": null,
   "id": "7cdca0c0-a477-41ba-9691-512685bfc282",
   "metadata": {},
   "outputs": [],
   "source": [
    "@show (x=3;sum(1:x);)"
   ]
  },
  {
   "cell_type": "code",
   "execution_count": null,
   "id": "ebffac2f-2b66-43b8-af54-370aaaf019e5",
   "metadata": {},
   "outputs": [],
   "source": [
    "@time sum(rand(100))"
   ]
  },
  {
   "cell_type": "code",
   "execution_count": null,
   "id": "fc3fe231-79e3-4fad-b53d-f00f764237e4",
   "metadata": {},
   "outputs": [],
   "source": [
    "@edit sum(1:2)"
   ]
  },
  {
   "cell_type": "code",
   "execution_count": null,
   "id": "27c0bafc-dd93-4a82-8f00-c2ad5225ade5",
   "metadata": {},
   "outputs": [],
   "source": [
    "@doc sum([1,2])"
   ]
  },
  {
   "cell_type": "code",
   "execution_count": null,
   "id": "ad41510a-1eaf-4c77-887e-1eb781e56a63",
   "metadata": {
    "tags": []
   },
   "outputs": [],
   "source": [
    "@macroexpand @time sum(1:2)"
   ]
  },
  {
   "cell_type": "code",
   "execution_count": null,
   "id": "30f9972b-c548-46aa-ace1-585439fe2863",
   "metadata": {},
   "outputs": [],
   "source": [
    "@code_warntype sum([0, 1.5, 1//3])"
   ]
  },
  {
   "cell_type": "markdown",
   "id": "92feb637-2817-4fc8-a932-87cb864c2cd9",
   "metadata": {
    "jp-MarkdownHeadingCollapsed": true,
    "tags": []
   },
   "source": [
    "## I/O"
   ]
  },
  {
   "cell_type": "code",
   "execution_count": null,
   "id": "4f01b0e6-004f-478b-b7a5-e5d2137fa77a",
   "metadata": {},
   "outputs": [],
   "source": [
    "io = open(\"README.md\",\"r\") "
   ]
  },
  {
   "cell_type": "code",
   "execution_count": null,
   "id": "5e898203-9b53-47a7-9445-d5d07aedb386",
   "metadata": {},
   "outputs": [],
   "source": [
    "content = read(io,String)"
   ]
  },
  {
   "cell_type": "code",
   "execution_count": null,
   "id": "197f28ac-e1bf-4cf2-8b46-6ac48ae94ebd",
   "metadata": {},
   "outputs": [],
   "source": [
    "close(io)"
   ]
  },
  {
   "cell_type": "code",
   "execution_count": null,
   "id": "1254f1f8-10dd-4b69-9180-21cb0f3bdc00",
   "metadata": {},
   "outputs": [],
   "source": [
    "# ?open"
   ]
  },
  {
   "cell_type": "code",
   "execution_count": null,
   "id": "d4ccdfee-38d0-4dcb-a301-3e0dfb129c7c",
   "metadata": {},
   "outputs": [],
   "source": [
    "lines = open(\"README.md\",\"r\") do io \n",
    "    content = read(io,String)\n",
    "    lines = split(content,\"\\r\\n\")\n",
    "    filter(x-> length(x) > 0, lines)\n",
    "end"
   ]
  },
  {
   "cell_type": "markdown",
   "id": "7a63b97b-b4c9-47a2-b428-08f51689a90d",
   "metadata": {},
   "source": [
    "### Piping"
   ]
  },
  {
   "cell_type": "code",
   "execution_count": null,
   "id": "27685646-922a-499c-aee7-b8af7b55865e",
   "metadata": {},
   "outputs": [],
   "source": [
    "open(\"README.md\",\"r\") |> (io-> read(io, String)) |> (x-> split(x,\"\\r\\n\")) |> (l -> filter(x-> length(x) > 0, l)) |> length"
   ]
  }
 ],
 "metadata": {
  "kernelspec": {
   "display_name": "Julia 1.7.3",
   "language": "julia",
   "name": "julia-1.7"
  },
  "language_info": {
   "file_extension": ".jl",
   "mimetype": "application/julia",
   "name": "julia",
   "version": "1.7.3"
  }
 },
 "nbformat": 4,
 "nbformat_minor": 5
}
