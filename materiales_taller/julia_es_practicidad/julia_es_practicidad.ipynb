{
 "cells": [
  {
   "cell_type": "markdown",
   "id": "05614e09-0220-4beb-b9cd-88c450360b36",
   "metadata": {},
   "source": [
    "# Julia es practicidad\n",
    "\n",
    "[Documentación oficial](https://docs.julialang.org/en/v1/)"
   ]
  },
  {
   "cell_type": "code",
   "execution_count": 1,
   "id": "ee1c6683-dd8e-4456-bb88-19301f3488d4",
   "metadata": {},
   "outputs": [
    {
     "name": "stdout",
     "output_type": "stream",
     "text": [
      "4\n"
     ]
    }
   ],
   "source": [
    "println(\"4\")"
   ]
  },
  {
   "cell_type": "code",
   "execution_count": 16,
   "id": "5ae7c29a-160f-4337-8605-3a816a08128d",
   "metadata": {},
   "outputs": [],
   "source": [
    "# Numeros"
   ]
  },
  {
   "cell_type": "code",
   "execution_count": 18,
   "id": "e561ed3b-a395-4a82-9d0e-3315a32a0200",
   "metadata": {},
   "outputs": [
    {
     "data": {
      "text/plain": [
       "2.0"
      ]
     },
     "execution_count": 18,
     "metadata": {},
     "output_type": "execute_result"
    }
   ],
   "source": [
    "1+1.0"
   ]
  },
  {
   "cell_type": "code",
   "execution_count": 4,
   "id": "7dcee9cc-e1be-463f-8b7e-963c082d6881",
   "metadata": {},
   "outputs": [],
   "source": [
    "# Stings"
   ]
  },
  {
   "cell_type": "code",
   "execution_count": 19,
   "id": "b73244c9-e3d2-4d96-88a8-3f3677d51cad",
   "metadata": {},
   "outputs": [
    {
     "data": {
      "text/plain": [
       "\"A\""
      ]
     },
     "execution_count": 19,
     "metadata": {},
     "output_type": "execute_result"
    }
   ],
   "source": [
    "\"A\""
   ]
  },
  {
   "cell_type": "code",
   "execution_count": 20,
   "id": "c5c6f628-581d-446b-800a-680eacc53779",
   "metadata": {},
   "outputs": [
    {
     "data": {
      "text/plain": [
       "\"S A\""
      ]
     },
     "execution_count": 20,
     "metadata": {},
     "output_type": "execute_result"
    }
   ],
   "source": [
    "\"S $ans\""
   ]
  },
  {
   "cell_type": "code",
   "execution_count": 21,
   "id": "955e02e9-90fa-48ff-8452-a6ea55473e2e",
   "metadata": {},
   "outputs": [
    {
     "data": {
      "text/plain": [
       "\"B S AS A\""
      ]
     },
     "execution_count": 21,
     "metadata": {},
     "output_type": "execute_result"
    }
   ],
   "source": [
    "\"B $(ans * ans)\""
   ]
  },
  {
   "cell_type": "code",
   "execution_count": 6,
   "id": "1ee6e805-e394-4772-a41a-a39708e90d84",
   "metadata": {},
   "outputs": [],
   "source": [
    "# Arrays"
   ]
  },
  {
   "cell_type": "code",
   "execution_count": 22,
   "id": "1909c109-21f2-4245-bcf7-9e19b3c97413",
   "metadata": {},
   "outputs": [
    {
     "data": {
      "text/plain": [
       "1×3 Matrix{Int64}:\n",
       " 1  2  3"
      ]
     },
     "execution_count": 22,
     "metadata": {},
     "output_type": "execute_result"
    }
   ],
   "source": [
    "A = [1 2 3]"
   ]
  },
  {
   "cell_type": "code",
   "execution_count": 23,
   "id": "f7e1cb4e-f0a9-459f-b4f6-ab6d67793b06",
   "metadata": {},
   "outputs": [
    {
     "data": {
      "text/plain": [
       "3-element Vector{Int64}:\n",
       " 1\n",
       " 2\n",
       " 3"
      ]
     },
     "execution_count": 23,
     "metadata": {},
     "output_type": "execute_result"
    }
   ],
   "source": [
    "B = [1,2,3]"
   ]
  },
  {
   "cell_type": "code",
   "execution_count": 24,
   "id": "48443b2c-2a4a-43d7-9e24-e37e4e36f1fc",
   "metadata": {},
   "outputs": [
    {
     "data": {
      "text/plain": [
       "2×2 Matrix{Int64}:\n",
       " 1  2\n",
       " 3  4"
      ]
     },
     "execution_count": 24,
     "metadata": {},
     "output_type": "execute_result"
    }
   ],
   "source": [
    "C = [ 1 2 \n",
    "      3 4 ]"
   ]
  },
  {
   "cell_type": "code",
   "execution_count": 29,
   "id": "2c7c2ea1-5bc7-4f30-b0c7-6f7f0979160a",
   "metadata": {},
   "outputs": [
    {
     "data": {
      "text/plain": [
       "3-element Vector{Int64}:\n",
       " 1\n",
       " 2\n",
       " 3"
      ]
     },
     "execution_count": 29,
     "metadata": {},
     "output_type": "execute_result"
    }
   ],
   "source": [
    "D = [ 1;2;3 ]"
   ]
  },
  {
   "cell_type": "markdown",
   "id": "d207179e-2a05-4805-8b17-c34a95248243",
   "metadata": {},
   "source": [
    "# Iteraciones"
   ]
  },
  {
   "cell_type": "code",
   "execution_count": 1,
   "id": "cf957ca9-6443-4a14-9c17-245e4e7eeb3b",
   "metadata": {},
   "outputs": [
    {
     "name": "stdout",
     "output_type": "stream",
     "text": [
      "1\n",
      "2\n",
      "3\n",
      "4\n",
      "5\n",
      "6\n",
      "7\n",
      "8\n",
      "9\n",
      "10\n"
     ]
    }
   ],
   "source": [
    "for i in 1:10\n",
    "    println(i)\n",
    "end"
   ]
  },
  {
   "cell_type": "code",
   "execution_count": 2,
   "id": "de978c95-e395-4cfa-8747-176a85b10315",
   "metadata": {},
   "outputs": [],
   "source": [
    "x = 0\n",
    "for i in 1:5, j in 1:0.1:2\n",
    "    x += i*j\n",
    "end"
   ]
  },
  {
   "cell_type": "code",
   "execution_count": 3,
   "id": "54d1dca3-68bc-4c2b-94f9-1146a20e4fe4",
   "metadata": {},
   "outputs": [
    {
     "data": {
      "text/plain": [
       "247.5"
      ]
     },
     "execution_count": 3,
     "metadata": {},
     "output_type": "execute_result"
    }
   ],
   "source": [
    "x"
   ]
  },
  {
   "cell_type": "code",
   "execution_count": 8,
   "id": "29408a1f-0269-4717-b679-7175b95584f2",
   "metadata": {},
   "outputs": [
    {
     "data": {
      "text/plain": [
       "20-element Vector{Float64}:\n",
       " 0.0\n",
       " 0.10526315789473684\n",
       " 0.21052631578947367\n",
       " 0.3157894736842105\n",
       " 0.42105263157894735\n",
       " 0.5263157894736842\n",
       " 0.631578947368421\n",
       " 0.7368421052631579\n",
       " 0.8421052631578947\n",
       " 0.9473684210526315\n",
       " 1.0526315789473684\n",
       " 1.1578947368421053\n",
       " 1.263157894736842\n",
       " 1.368421052631579\n",
       " 1.4736842105263157\n",
       " 1.5789473684210527\n",
       " 1.6842105263157894\n",
       " 1.7894736842105263\n",
       " 1.894736842105263\n",
       " 2.0"
      ]
     },
     "execution_count": 8,
     "metadata": {},
     "output_type": "execute_result"
    }
   ],
   "source": [
    "[ x*2 for x in range(0,1,20) ]"
   ]
  },
  {
   "cell_type": "code",
   "execution_count": 11,
   "id": "aff39103-5464-4830-a2d8-5b40eb52c231",
   "metadata": {},
   "outputs": [
    {
     "data": {
      "text/plain": [
       "5×4 Matrix{Float64}:\n",
       " 0.0  0.0   0.0  0.0\n",
       " 0.0  0.25  0.5  0.75\n",
       " 0.0  0.5   1.0  1.5\n",
       " 0.0  0.75  1.5  2.25\n",
       " 0.0  1.0   2.0  3.0"
      ]
     },
     "execution_count": 11,
     "metadata": {},
     "output_type": "execute_result"
    }
   ],
   "source": [
    "[ x*y for x in range(0,1,5), y in 0:3 ]"
   ]
  },
  {
   "cell_type": "markdown",
   "id": "e35ea7f1-dc5c-4d73-8eff-a59fc7bb109a",
   "metadata": {},
   "source": [
    "# Funciones"
   ]
  },
  {
   "cell_type": "code",
   "execution_count": 4,
   "id": "f515af84-8920-4539-968b-514a8f95f3d6",
   "metadata": {},
   "outputs": [
    {
     "data": {
      "text/plain": [
       "f (generic function with 1 method)"
      ]
     },
     "execution_count": 4,
     "metadata": {},
     "output_type": "execute_result"
    }
   ],
   "source": [
    "f(x) = x^2"
   ]
  },
  {
   "cell_type": "code",
   "execution_count": 5,
   "id": "2c719279-3695-4c41-a57a-78eccce0008a",
   "metadata": {},
   "outputs": [
    {
     "data": {
      "text/plain": [
       "f (generic function with 2 methods)"
      ]
     },
     "execution_count": 5,
     "metadata": {},
     "output_type": "execute_result"
    }
   ],
   "source": [
    "function f(x,y)\n",
    "    x+y\n",
    "end"
   ]
  },
  {
   "cell_type": "code",
   "execution_count": 7,
   "id": "ac77bca0-23ff-452d-b4b1-9470473ed785",
   "metadata": {},
   "outputs": [
    {
     "data": {
      "text/html": [
       "# 2 methods for generic function <b>f</b>:<ul><li> f(x) in Main at In[4]:1</li> <li> f(x, y) in Main at In[5]:1</li> </ul>"
      ],
      "text/plain": [
       "# 2 methods for generic function \"f\":\n",
       "[1] f(x) in Main at In[4]:1\n",
       "[2] f(x, y) in Main at In[5]:1"
      ]
     },
     "execution_count": 7,
     "metadata": {},
     "output_type": "execute_result"
    }
   ],
   "source": [
    "methods(f)"
   ]
  },
  {
   "cell_type": "code",
   "execution_count": 12,
   "id": "b073139d-6c62-4950-94ce-75048ca23a2b",
   "metadata": {},
   "outputs": [
    {
     "data": {
      "text/plain": [
       "f (generic function with 2 methods)"
      ]
     },
     "execution_count": 12,
     "metadata": {},
     "output_type": "execute_result"
    }
   ],
   "source": [
    "function f(x ; n=10)\n",
    "    for i in 1:n\n",
    "        x += x^i\n",
    "    end\n",
    "    x\n",
    "end"
   ]
  },
  {
   "cell_type": "code",
   "execution_count": 32,
   "id": "923715b2-b52d-4850-9044-9eb9c941df6f",
   "metadata": {},
   "outputs": [
    {
     "data": {
      "text/plain": [
       "g (generic function with 1 method)"
      ]
     },
     "execution_count": 32,
     "metadata": {},
     "output_type": "execute_result"
    }
   ],
   "source": [
    "g(f,y) = f(y+2)"
   ]
  },
  {
   "cell_type": "code",
   "execution_count": 34,
   "id": "8b7e1562-cfe0-4a6d-9688-a89fbc5c314b",
   "metadata": {},
   "outputs": [
    {
     "data": {
      "text/plain": [
       "9"
      ]
     },
     "execution_count": 34,
     "metadata": {},
     "output_type": "execute_result"
    }
   ],
   "source": [
    "g(x-> x+5, 2)"
   ]
  },
  {
   "cell_type": "code",
   "execution_count": 33,
   "id": "637ccd16-f69f-4c95-b75d-bbe7008463ad",
   "metadata": {},
   "outputs": [
    {
     "name": "stdout",
     "output_type": "stream",
     "text": [
      "X = 4\n"
     ]
    },
    {
     "data": {
      "text/plain": [
       "7"
      ]
     },
     "execution_count": 33,
     "metadata": {},
     "output_type": "execute_result"
    }
   ],
   "source": [
    "g(2) do x\n",
    "    println(\"X = $x\")\n",
    "    3+x\n",
    "end"
   ]
  },
  {
   "cell_type": "markdown",
   "id": "48ad311e-2730-4735-99d8-cd8331db971b",
   "metadata": {},
   "source": [
    "# Contextos y control de flujo"
   ]
  },
  {
   "cell_type": "code",
   "execution_count": 1,
   "id": "df09b1bc-1519-41dc-85a6-89b2003db78f",
   "metadata": {},
   "outputs": [
    {
     "data": {
      "text/plain": [
       "6"
      ]
     },
     "execution_count": 1,
     "metadata": {},
     "output_type": "execute_result"
    }
   ],
   "source": [
    " y = begin \n",
    "    x = 1:3\n",
    "    o = 1\n",
    "    for i in x\n",
    "        o *= i\n",
    "    end\n",
    "    o\n",
    "end"
   ]
  },
  {
   "cell_type": "code",
   "execution_count": 8,
   "id": "6bcf2991-20e2-4fd5-93f0-fa135930d0eb",
   "metadata": {},
   "outputs": [
    {
     "data": {
      "text/plain": [
       "6"
      ]
     },
     "execution_count": 8,
     "metadata": {},
     "output_type": "execute_result"
    }
   ],
   "source": [
    "o"
   ]
  },
  {
   "cell_type": "code",
   "execution_count": 12,
   "id": "052b2d36-d278-4cd2-9765-c5d8976f7242",
   "metadata": {},
   "outputs": [
    {
     "name": "stdout",
     "output_type": "stream",
     "text": [
      "o = 10\n"
     ]
    },
    {
     "data": {
      "text/plain": [
       "10"
      ]
     },
     "execution_count": 12,
     "metadata": {},
     "output_type": "execute_result"
    }
   ],
   "source": [
    "x = 5\n",
    "z = let \n",
    "    o = 5\n",
    "    if x < 2 && x != 0\n",
    "        println(\"$x < 2\")\n",
    "        o /= x\n",
    "    elseif x == 0\n",
    "        println(\"x == 0\")\n",
    "    else\n",
    "        o += x\n",
    "    end\n",
    "    println(\"o = $o\")\n",
    "    o\n",
    "end"
   ]
  },
  {
   "cell_type": "code",
   "execution_count": 13,
   "id": "af550af3-d25d-4940-9316-49dc17e6a4ec",
   "metadata": {},
   "outputs": [
    {
     "data": {
      "text/plain": [
       "6"
      ]
     },
     "execution_count": 13,
     "metadata": {},
     "output_type": "execute_result"
    }
   ],
   "source": [
    "o"
   ]
  },
  {
   "cell_type": "markdown",
   "id": "b1477236-b958-4ea3-a8aa-18306dbe8c22",
   "metadata": {},
   "source": [
    "# Utilidades"
   ]
  },
  {
   "cell_type": "code",
   "execution_count": 14,
   "id": "b869a5a1-2057-4950-81b5-2901ff1dea12",
   "metadata": {},
   "outputs": [
    {
     "name": "stdout",
     "output_type": "stream",
     "text": [
      "search: \u001b[0m\u001b[1ms\u001b[22m\u001b[0m\u001b[1mu\u001b[22m\u001b[0m\u001b[1mm\u001b[22m \u001b[0m\u001b[1ms\u001b[22m\u001b[0m\u001b[1mu\u001b[22m\u001b[0m\u001b[1mm\u001b[22m! \u001b[0m\u001b[1ms\u001b[22m\u001b[0m\u001b[1mu\u001b[22m\u001b[0m\u001b[1mm\u001b[22mmary cum\u001b[0m\u001b[1ms\u001b[22m\u001b[0m\u001b[1mu\u001b[22m\u001b[0m\u001b[1mm\u001b[22m cum\u001b[0m\u001b[1ms\u001b[22m\u001b[0m\u001b[1mu\u001b[22m\u001b[0m\u001b[1mm\u001b[22m! i\u001b[0m\u001b[1ms\u001b[22mn\u001b[0m\u001b[1mu\u001b[22m\u001b[0m\u001b[1mm\u001b[22meric Ver\u001b[0m\u001b[1ms\u001b[22mionN\u001b[0m\u001b[1mu\u001b[22m\u001b[0m\u001b[1mm\u001b[22mber i\u001b[0m\u001b[1ms\u001b[22ms\u001b[0m\u001b[1mu\u001b[22mbnor\u001b[0m\u001b[1mm\u001b[22mal\n",
      "\n"
     ]
    },
    {
     "data": {
      "text/latex": [
       "\\begin{verbatim}\n",
       "sum(f, itr; [init])\n",
       "\\end{verbatim}\n",
       "Sum the results of calling function \\texttt{f} on each element of \\texttt{itr}.\n",
       "\n",
       "The return type is \\texttt{Int} for signed integers of less than system word size, and \\texttt{UInt} for unsigned integers of less than system word size.  For all other arguments, a common return type is found to which all arguments are promoted.\n",
       "\n",
       "The value returned for empty \\texttt{itr} can be specified by \\texttt{init}. It must be the additive identity (i.e. zero) as it is unspecified whether \\texttt{init} is used for non-empty collections.\n",
       "\n",
       "\\begin{quote}\n",
       "\\textbf{compat}\n",
       "\n",
       "Julia 1.6\n",
       "\n",
       "Keyword argument \\texttt{init} requires Julia 1.6 or later.\n",
       "\n",
       "\\end{quote}\n",
       "\\section{Examples}\n",
       "\\begin{verbatim}\n",
       "julia> sum(abs2, [2; 3; 4])\n",
       "29\n",
       "\\end{verbatim}\n",
       "Note the important difference between \\texttt{sum(A)} and \\texttt{reduce(+, A)} for arrays with small integer eltype:\n",
       "\n",
       "\\begin{verbatim}\n",
       "julia> sum(Int8[100, 28])\n",
       "128\n",
       "\n",
       "julia> reduce(+, Int8[100, 28])\n",
       "-128\n",
       "\\end{verbatim}\n",
       "In the former case, the integers are widened to system word size and therefore the result is 128. In the latter case, no such widening happens and integer overflow results in -128.\n",
       "\n",
       "\\rule{\\textwidth}{1pt}\n",
       "\\begin{verbatim}\n",
       "sum(itr; [init])\n",
       "\\end{verbatim}\n",
       "Returns the sum of all elements in a collection.\n",
       "\n",
       "The return type is \\texttt{Int} for signed integers of less than system word size, and \\texttt{UInt} for unsigned integers of less than system word size.  For all other arguments, a common return type is found to which all arguments are promoted.\n",
       "\n",
       "The value returned for empty \\texttt{itr} can be specified by \\texttt{init}. It must be the additive identity (i.e. zero) as it is unspecified whether \\texttt{init} is used for non-empty collections.\n",
       "\n",
       "\\begin{quote}\n",
       "\\textbf{compat}\n",
       "\n",
       "Julia 1.6\n",
       "\n",
       "Keyword argument \\texttt{init} requires Julia 1.6 or later.\n",
       "\n",
       "\\end{quote}\n",
       "See also: \\href{@ref}{\\texttt{reduce}}, \\href{@ref}{\\texttt{mapreduce}}, \\href{@ref}{\\texttt{count}}, \\href{@ref}{\\texttt{union}}.\n",
       "\n",
       "\\section{Examples}\n",
       "\\begin{verbatim}\n",
       "julia> sum(1:20)\n",
       "210\n",
       "\n",
       "julia> sum(1:20; init = 0.0)\n",
       "210.0\n",
       "\\end{verbatim}\n",
       "\\rule{\\textwidth}{1pt}\n",
       "\\begin{verbatim}\n",
       "sum(A::AbstractArray; dims)\n",
       "\\end{verbatim}\n",
       "Sum elements of an array over the given dimensions.\n",
       "\n",
       "\\section{Examples}\n",
       "\\begin{verbatim}\n",
       "julia> A = [1 2; 3 4]\n",
       "2×2 Matrix{Int64}:\n",
       " 1  2\n",
       " 3  4\n",
       "\n",
       "julia> sum(A, dims=1)\n",
       "1×2 Matrix{Int64}:\n",
       " 4  6\n",
       "\n",
       "julia> sum(A, dims=2)\n",
       "2×1 Matrix{Int64}:\n",
       " 3\n",
       " 7\n",
       "\\end{verbatim}\n",
       "\\rule{\\textwidth}{1pt}\n",
       "\\begin{verbatim}\n",
       "sum(f, A::AbstractArray; dims)\n",
       "\\end{verbatim}\n",
       "Sum the results of calling function \\texttt{f} on each element of an array over the given dimensions.\n",
       "\n",
       "\\section{Examples}\n",
       "\\begin{verbatim}\n",
       "julia> A = [1 2; 3 4]\n",
       "2×2 Matrix{Int64}:\n",
       " 1  2\n",
       " 3  4\n",
       "\n",
       "julia> sum(abs2, A, dims=1)\n",
       "1×2 Matrix{Int64}:\n",
       " 10  20\n",
       "\n",
       "julia> sum(abs2, A, dims=2)\n",
       "2×1 Matrix{Int64}:\n",
       "  5\n",
       " 25\n",
       "\\end{verbatim}\n"
      ],
      "text/markdown": [
       "```\n",
       "sum(f, itr; [init])\n",
       "```\n",
       "\n",
       "Sum the results of calling function `f` on each element of `itr`.\n",
       "\n",
       "The return type is `Int` for signed integers of less than system word size, and `UInt` for unsigned integers of less than system word size.  For all other arguments, a common return type is found to which all arguments are promoted.\n",
       "\n",
       "The value returned for empty `itr` can be specified by `init`. It must be the additive identity (i.e. zero) as it is unspecified whether `init` is used for non-empty collections.\n",
       "\n",
       "!!! compat \"Julia 1.6\"\n",
       "    Keyword argument `init` requires Julia 1.6 or later.\n",
       "\n",
       "\n",
       "# Examples\n",
       "\n",
       "```jldoctest\n",
       "julia> sum(abs2, [2; 3; 4])\n",
       "29\n",
       "```\n",
       "\n",
       "Note the important difference between `sum(A)` and `reduce(+, A)` for arrays with small integer eltype:\n",
       "\n",
       "```jldoctest\n",
       "julia> sum(Int8[100, 28])\n",
       "128\n",
       "\n",
       "julia> reduce(+, Int8[100, 28])\n",
       "-128\n",
       "```\n",
       "\n",
       "In the former case, the integers are widened to system word size and therefore the result is 128. In the latter case, no such widening happens and integer overflow results in -128.\n",
       "\n",
       "---\n",
       "\n",
       "```\n",
       "sum(itr; [init])\n",
       "```\n",
       "\n",
       "Returns the sum of all elements in a collection.\n",
       "\n",
       "The return type is `Int` for signed integers of less than system word size, and `UInt` for unsigned integers of less than system word size.  For all other arguments, a common return type is found to which all arguments are promoted.\n",
       "\n",
       "The value returned for empty `itr` can be specified by `init`. It must be the additive identity (i.e. zero) as it is unspecified whether `init` is used for non-empty collections.\n",
       "\n",
       "!!! compat \"Julia 1.6\"\n",
       "    Keyword argument `init` requires Julia 1.6 or later.\n",
       "\n",
       "\n",
       "See also: [`reduce`](@ref), [`mapreduce`](@ref), [`count`](@ref), [`union`](@ref).\n",
       "\n",
       "# Examples\n",
       "\n",
       "```jldoctest\n",
       "julia> sum(1:20)\n",
       "210\n",
       "\n",
       "julia> sum(1:20; init = 0.0)\n",
       "210.0\n",
       "```\n",
       "\n",
       "---\n",
       "\n",
       "```\n",
       "sum(A::AbstractArray; dims)\n",
       "```\n",
       "\n",
       "Sum elements of an array over the given dimensions.\n",
       "\n",
       "# Examples\n",
       "\n",
       "```jldoctest\n",
       "julia> A = [1 2; 3 4]\n",
       "2×2 Matrix{Int64}:\n",
       " 1  2\n",
       " 3  4\n",
       "\n",
       "julia> sum(A, dims=1)\n",
       "1×2 Matrix{Int64}:\n",
       " 4  6\n",
       "\n",
       "julia> sum(A, dims=2)\n",
       "2×1 Matrix{Int64}:\n",
       " 3\n",
       " 7\n",
       "```\n",
       "\n",
       "---\n",
       "\n",
       "```\n",
       "sum(f, A::AbstractArray; dims)\n",
       "```\n",
       "\n",
       "Sum the results of calling function `f` on each element of an array over the given dimensions.\n",
       "\n",
       "# Examples\n",
       "\n",
       "```jldoctest\n",
       "julia> A = [1 2; 3 4]\n",
       "2×2 Matrix{Int64}:\n",
       " 1  2\n",
       " 3  4\n",
       "\n",
       "julia> sum(abs2, A, dims=1)\n",
       "1×2 Matrix{Int64}:\n",
       " 10  20\n",
       "\n",
       "julia> sum(abs2, A, dims=2)\n",
       "2×1 Matrix{Int64}:\n",
       "  5\n",
       " 25\n",
       "```\n"
      ],
      "text/plain": [
       "\u001b[36m  sum(f, itr; [init])\u001b[39m\n",
       "\n",
       "  Sum the results of calling function \u001b[36mf\u001b[39m on each element of \u001b[36mitr\u001b[39m.\n",
       "\n",
       "  The return type is \u001b[36mInt\u001b[39m for signed integers of less than system word size,\n",
       "  and \u001b[36mUInt\u001b[39m for unsigned integers of less than system word size. For all other\n",
       "  arguments, a common return type is found to which all arguments are\n",
       "  promoted.\n",
       "\n",
       "  The value returned for empty \u001b[36mitr\u001b[39m can be specified by \u001b[36minit\u001b[39m. It must be the\n",
       "  additive identity (i.e. zero) as it is unspecified whether \u001b[36minit\u001b[39m is used for\n",
       "  non-empty collections.\n",
       "\n",
       "\u001b[39m\u001b[1m  │ \u001b[22m\u001b[39m\u001b[1mJulia 1.6\u001b[22m\n",
       "\u001b[39m\u001b[1m  │\u001b[22m\n",
       "\u001b[39m\u001b[1m  │\u001b[22m  Keyword argument \u001b[36minit\u001b[39m requires Julia 1.6 or later.\n",
       "\n",
       "\u001b[1m  Examples\u001b[22m\n",
       "\u001b[1m  ≡≡≡≡≡≡≡≡≡≡\u001b[22m\n",
       "\n",
       "\u001b[36m  julia> sum(abs2, [2; 3; 4])\u001b[39m\n",
       "\u001b[36m  29\u001b[39m\n",
       "\n",
       "  Note the important difference between \u001b[36msum(A)\u001b[39m and \u001b[36mreduce(+, A)\u001b[39m for arrays\n",
       "  with small integer eltype:\n",
       "\n",
       "\u001b[36m  julia> sum(Int8[100, 28])\u001b[39m\n",
       "\u001b[36m  128\u001b[39m\n",
       "\u001b[36m  \u001b[39m\n",
       "\u001b[36m  julia> reduce(+, Int8[100, 28])\u001b[39m\n",
       "\u001b[36m  -128\u001b[39m\n",
       "\n",
       "  In the former case, the integers are widened to system word size and\n",
       "  therefore the result is 128. In the latter case, no such widening happens\n",
       "  and integer overflow results in -128.\n",
       "\n",
       "  ────────────────────────────────────────────────────────────────────────────\n",
       "\n",
       "\u001b[36m  sum(itr; [init])\u001b[39m\n",
       "\n",
       "  Returns the sum of all elements in a collection.\n",
       "\n",
       "  The return type is \u001b[36mInt\u001b[39m for signed integers of less than system word size,\n",
       "  and \u001b[36mUInt\u001b[39m for unsigned integers of less than system word size. For all other\n",
       "  arguments, a common return type is found to which all arguments are\n",
       "  promoted.\n",
       "\n",
       "  The value returned for empty \u001b[36mitr\u001b[39m can be specified by \u001b[36minit\u001b[39m. It must be the\n",
       "  additive identity (i.e. zero) as it is unspecified whether \u001b[36minit\u001b[39m is used for\n",
       "  non-empty collections.\n",
       "\n",
       "\u001b[39m\u001b[1m  │ \u001b[22m\u001b[39m\u001b[1mJulia 1.6\u001b[22m\n",
       "\u001b[39m\u001b[1m  │\u001b[22m\n",
       "\u001b[39m\u001b[1m  │\u001b[22m  Keyword argument \u001b[36minit\u001b[39m requires Julia 1.6 or later.\n",
       "\n",
       "  See also: \u001b[36mreduce\u001b[39m, \u001b[36mmapreduce\u001b[39m, \u001b[36mcount\u001b[39m, \u001b[36munion\u001b[39m.\n",
       "\n",
       "\u001b[1m  Examples\u001b[22m\n",
       "\u001b[1m  ≡≡≡≡≡≡≡≡≡≡\u001b[22m\n",
       "\n",
       "\u001b[36m  julia> sum(1:20)\u001b[39m\n",
       "\u001b[36m  210\u001b[39m\n",
       "\u001b[36m  \u001b[39m\n",
       "\u001b[36m  julia> sum(1:20; init = 0.0)\u001b[39m\n",
       "\u001b[36m  210.0\u001b[39m\n",
       "\n",
       "  ────────────────────────────────────────────────────────────────────────────\n",
       "\n",
       "\u001b[36m  sum(A::AbstractArray; dims)\u001b[39m\n",
       "\n",
       "  Sum elements of an array over the given dimensions.\n",
       "\n",
       "\u001b[1m  Examples\u001b[22m\n",
       "\u001b[1m  ≡≡≡≡≡≡≡≡≡≡\u001b[22m\n",
       "\n",
       "\u001b[36m  julia> A = [1 2; 3 4]\u001b[39m\n",
       "\u001b[36m  2×2 Matrix{Int64}:\u001b[39m\n",
       "\u001b[36m   1  2\u001b[39m\n",
       "\u001b[36m   3  4\u001b[39m\n",
       "\u001b[36m  \u001b[39m\n",
       "\u001b[36m  julia> sum(A, dims=1)\u001b[39m\n",
       "\u001b[36m  1×2 Matrix{Int64}:\u001b[39m\n",
       "\u001b[36m   4  6\u001b[39m\n",
       "\u001b[36m  \u001b[39m\n",
       "\u001b[36m  julia> sum(A, dims=2)\u001b[39m\n",
       "\u001b[36m  2×1 Matrix{Int64}:\u001b[39m\n",
       "\u001b[36m   3\u001b[39m\n",
       "\u001b[36m   7\u001b[39m\n",
       "\n",
       "  ────────────────────────────────────────────────────────────────────────────\n",
       "\n",
       "\u001b[36m  sum(f, A::AbstractArray; dims)\u001b[39m\n",
       "\n",
       "  Sum the results of calling function \u001b[36mf\u001b[39m on each element of an array over the\n",
       "  given dimensions.\n",
       "\n",
       "\u001b[1m  Examples\u001b[22m\n",
       "\u001b[1m  ≡≡≡≡≡≡≡≡≡≡\u001b[22m\n",
       "\n",
       "\u001b[36m  julia> A = [1 2; 3 4]\u001b[39m\n",
       "\u001b[36m  2×2 Matrix{Int64}:\u001b[39m\n",
       "\u001b[36m   1  2\u001b[39m\n",
       "\u001b[36m   3  4\u001b[39m\n",
       "\u001b[36m  \u001b[39m\n",
       "\u001b[36m  julia> sum(abs2, A, dims=1)\u001b[39m\n",
       "\u001b[36m  1×2 Matrix{Int64}:\u001b[39m\n",
       "\u001b[36m   10  20\u001b[39m\n",
       "\u001b[36m  \u001b[39m\n",
       "\u001b[36m  julia> sum(abs2, A, dims=2)\u001b[39m\n",
       "\u001b[36m  2×1 Matrix{Int64}:\u001b[39m\n",
       "\u001b[36m    5\u001b[39m\n",
       "\u001b[36m   25\u001b[39m"
      ]
     },
     "execution_count": 14,
     "metadata": {},
     "output_type": "execute_result"
    }
   ],
   "source": [
    "?sum"
   ]
  },
  {
   "cell_type": "code",
   "execution_count": null,
   "id": "9a84f6ac-9397-4a8a-a90f-4cad0f9175f6",
   "metadata": {},
   "outputs": [],
   "source": []
  },
  {
   "cell_type": "markdown",
   "id": "3e2c55bf-1fdf-40e4-9c35-f38c1ae4d9cd",
   "metadata": {},
   "source": [
    "# Macros"
   ]
  },
  {
   "cell_type": "code",
   "execution_count": 2,
   "id": "e8298d7a-447c-48d1-9cab-89dbc9005a4e",
   "metadata": {},
   "outputs": [
    {
     "data": {
      "text/html": [
       "sum(r::<b>AbstractRange{<:Real}</b>) in Base at <a href=\"https://github.com/JuliaLang/julia/tree/742b9abb4dd4621b667ec5bb3434b8b3602f96fd/base/range.jl#L1312\" target=\"_blank\">range.jl:1312</a>"
      ],
      "text/plain": [
       "sum(r::AbstractRange{<:Real}) in Base at range.jl:1312"
      ]
     },
     "execution_count": 2,
     "metadata": {},
     "output_type": "execute_result"
    }
   ],
   "source": [
    "@which sum(1:2)"
   ]
  },
  {
   "cell_type": "code",
   "execution_count": 7,
   "id": "7cdca0c0-a477-41ba-9691-512685bfc282",
   "metadata": {},
   "outputs": [
    {
     "name": "stdout",
     "output_type": "stream",
     "text": [
      "begin\n",
      "    x = 3\n",
      "    #= In[7]:1 =#\n",
      "    sum(1:x)\n",
      "end = 6\n"
     ]
    },
    {
     "data": {
      "text/plain": [
       "6"
      ]
     },
     "execution_count": 7,
     "metadata": {},
     "output_type": "execute_result"
    }
   ],
   "source": [
    "@show (x=3;sum(1:x);)"
   ]
  },
  {
   "cell_type": "code",
   "execution_count": 6,
   "id": "ebffac2f-2b66-43b8-af54-370aaaf019e5",
   "metadata": {},
   "outputs": [
    {
     "name": "stdout",
     "output_type": "stream",
     "text": [
      "  0.000004 seconds (1 allocation: 896 bytes)\n"
     ]
    },
    {
     "data": {
      "text/plain": [
       "52.10605332891696"
      ]
     },
     "execution_count": 6,
     "metadata": {},
     "output_type": "execute_result"
    }
   ],
   "source": [
    "@time sum(rand(100))"
   ]
  },
  {
   "cell_type": "code",
   "execution_count": 10,
   "id": "fc3fe231-79e3-4fad-b53d-f00f764237e4",
   "metadata": {},
   "outputs": [
    {
     "name": "stdout",
     "output_type": "stream",
     "text": [
      "sum(1:2) = 3\n"
     ]
    },
    {
     "data": {
      "text/plain": [
       "3"
      ]
     },
     "execution_count": 10,
     "metadata": {},
     "output_type": "execute_result"
    }
   ],
   "source": [
    "@show sum(1:2)"
   ]
  },
  {
   "cell_type": "code",
   "execution_count": 14,
   "id": "27c0bafc-dd93-4a82-8f00-c2ad5225ade5",
   "metadata": {},
   "outputs": [
    {
     "data": {
      "text/latex": [
       "\\begin{verbatim}\n",
       "sum(itr; [init])\n",
       "\\end{verbatim}\n",
       "Returns the sum of all elements in a collection.\n",
       "\n",
       "The return type is \\texttt{Int} for signed integers of less than system word size, and \\texttt{UInt} for unsigned integers of less than system word size.  For all other arguments, a common return type is found to which all arguments are promoted.\n",
       "\n",
       "The value returned for empty \\texttt{itr} can be specified by \\texttt{init}. It must be the additive identity (i.e. zero) as it is unspecified whether \\texttt{init} is used for non-empty collections.\n",
       "\n",
       "\\begin{quote}\n",
       "\\textbf{compat}\n",
       "\n",
       "Julia 1.6\n",
       "\n",
       "Keyword argument \\texttt{init} requires Julia 1.6 or later.\n",
       "\n",
       "\\end{quote}\n",
       "See also: \\href{@ref}{\\texttt{reduce}}, \\href{@ref}{\\texttt{mapreduce}}, \\href{@ref}{\\texttt{count}}, \\href{@ref}{\\texttt{union}}.\n",
       "\n",
       "\\section{Examples}\n",
       "\\begin{verbatim}\n",
       "julia> sum(1:20)\n",
       "210\n",
       "\n",
       "julia> sum(1:20; init = 0.0)\n",
       "210.0\n",
       "\\end{verbatim}\n"
      ],
      "text/markdown": [
       "```\n",
       "sum(itr; [init])\n",
       "```\n",
       "\n",
       "Returns the sum of all elements in a collection.\n",
       "\n",
       "The return type is `Int` for signed integers of less than system word size, and `UInt` for unsigned integers of less than system word size.  For all other arguments, a common return type is found to which all arguments are promoted.\n",
       "\n",
       "The value returned for empty `itr` can be specified by `init`. It must be the additive identity (i.e. zero) as it is unspecified whether `init` is used for non-empty collections.\n",
       "\n",
       "!!! compat \"Julia 1.6\"\n",
       "    Keyword argument `init` requires Julia 1.6 or later.\n",
       "\n",
       "\n",
       "See also: [`reduce`](@ref), [`mapreduce`](@ref), [`count`](@ref), [`union`](@ref).\n",
       "\n",
       "# Examples\n",
       "\n",
       "```jldoctest\n",
       "julia> sum(1:20)\n",
       "210\n",
       "\n",
       "julia> sum(1:20; init = 0.0)\n",
       "210.0\n",
       "```\n"
      ],
      "text/plain": [
       "\u001b[36m  sum(itr; [init])\u001b[39m\n",
       "\n",
       "  Returns the sum of all elements in a collection.\n",
       "\n",
       "  The return type is \u001b[36mInt\u001b[39m for signed integers of less than system word size,\n",
       "  and \u001b[36mUInt\u001b[39m for unsigned integers of less than system word size. For all other\n",
       "  arguments, a common return type is found to which all arguments are\n",
       "  promoted.\n",
       "\n",
       "  The value returned for empty \u001b[36mitr\u001b[39m can be specified by \u001b[36minit\u001b[39m. It must be the\n",
       "  additive identity (i.e. zero) as it is unspecified whether \u001b[36minit\u001b[39m is used for\n",
       "  non-empty collections.\n",
       "\n",
       "\u001b[39m\u001b[1m  │ \u001b[22m\u001b[39m\u001b[1mJulia 1.6\u001b[22m\n",
       "\u001b[39m\u001b[1m  │\u001b[22m\n",
       "\u001b[39m\u001b[1m  │\u001b[22m  Keyword argument \u001b[36minit\u001b[39m requires Julia 1.6 or later.\n",
       "\n",
       "  See also: \u001b[36mreduce\u001b[39m, \u001b[36mmapreduce\u001b[39m, \u001b[36mcount\u001b[39m, \u001b[36munion\u001b[39m.\n",
       "\n",
       "\u001b[1m  Examples\u001b[22m\n",
       "\u001b[1m  ≡≡≡≡≡≡≡≡≡≡\u001b[22m\n",
       "\n",
       "\u001b[36m  julia> sum(1:20)\u001b[39m\n",
       "\u001b[36m  210\u001b[39m\n",
       "\u001b[36m  \u001b[39m\n",
       "\u001b[36m  julia> sum(1:20; init = 0.0)\u001b[39m\n",
       "\u001b[36m  210.0\u001b[39m"
      ]
     },
     "execution_count": 14,
     "metadata": {},
     "output_type": "execute_result"
    }
   ],
   "source": [
    "@doc sum([1,2])"
   ]
  },
  {
   "cell_type": "markdown",
   "id": "92feb637-2817-4fc8-a932-87cb864c2cd9",
   "metadata": {},
   "source": [
    "# I/O"
   ]
  },
  {
   "cell_type": "code",
   "execution_count": 17,
   "id": "4f01b0e6-004f-478b-b7a5-e5d2137fa77a",
   "metadata": {},
   "outputs": [
    {
     "data": {
      "text/plain": [
       "IOStream(<file README.md>)"
      ]
     },
     "execution_count": 17,
     "metadata": {},
     "output_type": "execute_result"
    }
   ],
   "source": [
    "io = open(\"README.md\",\"r\") "
   ]
  },
  {
   "cell_type": "code",
   "execution_count": 18,
   "id": "5e898203-9b53-47a7-9445-d5d07aedb386",
   "metadata": {},
   "outputs": [
    {
     "data": {
      "text/plain": [
       "\"# Julia es practicidad\\r\\n\\r\\n![julia-dots-green-top](../../artefactos/imagenes/julia-dots_green_top.svg)\\r\\n\\r\\n## Guia\\r\\n\\r\\n```shell\\r\\n> julia --project=\\\".\\\"\\r\\n```\\r\\n\\r\\n```julia-repl\\r\\njulia> using IJulia\\r\\njulia> jupyterlab(dir=\\\".\\\")\\r\\n```\\r\\n\\r\\n## Uso de Librerias\\r\\n\\r\\n- Plots\\r\\n- DataFrames\" ⋯ 276 bytes ⋯ \"rlab-plotly\\r\\n```\\r\\n\\r\\n```julia-repl\\r\\njulia> notebook(dir=\\\".\\\")\\r\\n```\\r\\n\\r\\n## Materiales adicionales\\r\\n\\r\\n- Lista de diferencias especificas con otros lenguajes como Python, Matlab, R ... [Noteworthy differences](https://docs.julialang.org/en/v2/manual/noteworthy-differences/)\\r\\n\""
      ]
     },
     "execution_count": 18,
     "metadata": {},
     "output_type": "execute_result"
    }
   ],
   "source": [
    "content = read(io,String)"
   ]
  },
  {
   "cell_type": "code",
   "execution_count": 19,
   "id": "197f28ac-e1bf-4cf2-8b46-6ac48ae94ebd",
   "metadata": {},
   "outputs": [],
   "source": [
    "close(io)"
   ]
  },
  {
   "cell_type": "code",
   "execution_count": 26,
   "id": "1254f1f8-10dd-4b69-9180-21cb0f3bdc00",
   "metadata": {},
   "outputs": [],
   "source": [
    "# ?open"
   ]
  },
  {
   "cell_type": "code",
   "execution_count": 38,
   "id": "d4ccdfee-38d0-4dcb-a301-3e0dfb129c7c",
   "metadata": {},
   "outputs": [
    {
     "data": {
      "text/plain": [
       "32-element Vector{SubString{String}}:\n",
       " \"# Julia es practicidad\"\n",
       " \"![julia-dots-green-top](../../artefactos/imagenes/julia-dots_green_top.svg)\"\n",
       " \"## Guia\"\n",
       " \"```shell\"\n",
       " \"> julia --project=\\\".\\\"\"\n",
       " \"```\"\n",
       " \"```julia-repl\"\n",
       " \"julia> using IJulia\"\n",
       " \"julia> jupyterlab(dir=\\\".\\\")\"\n",
       " \"```\"\n",
       " \"## Uso de Librerias\"\n",
       " \"- Plots\"\n",
       " \"- DataFrames\"\n",
       " ⋮\n",
       " \"Conda.pip(\\\"install\\\", \\\"webio_jupyter_extension\\\")\"\n",
       " \"```\"\n",
       " \"Alternativamente\"\n",
       " \"```shell\"\n",
       " \"> conda activate \\\"PATH de conda\\\"\"\n",
       " \"> jupyter labextension install jupyterlab-plotly\"\n",
       " \"```\"\n",
       " \"```julia-repl\"\n",
       " \"julia> notebook(dir=\\\".\\\")\"\n",
       " \"```\"\n",
       " \"## Materiales adicionales\"\n",
       " \"- Lista de diferencias especifi\" ⋯ 110 bytes ⋯ \"anual/noteworthy-differences/)\""
      ]
     },
     "execution_count": 38,
     "metadata": {},
     "output_type": "execute_result"
    }
   ],
   "source": [
    "lines = open(\"README.md\",\"r\") do io \n",
    "    content = read(io,String)\n",
    "    lines = split(content,\"\\r\\n\")\n",
    "    filter(x-> length(x) > 0, lines)\n",
    "end"
   ]
  },
  {
   "cell_type": "code",
   "execution_count": 53,
   "id": "27685646-922a-499c-aee7-b8af7b55865e",
   "metadata": {},
   "outputs": [
    {
     "data": {
      "text/plain": [
       "32-element Vector{Int64}:\n",
       "  22\n",
       "  75\n",
       "   7\n",
       "   8\n",
       "  21\n",
       "   3\n",
       "  13\n",
       "  19\n",
       "  26\n",
       "   3\n",
       "  19\n",
       "   7\n",
       "  12\n",
       "   ⋮\n",
       "  47\n",
       "   3\n",
       "  16\n",
       "   8\n",
       "  32\n",
       "  48\n",
       "   3\n",
       "  13\n",
       "  24\n",
       "   3\n",
       "  25\n",
       " 171"
      ]
     },
     "execution_count": 53,
     "metadata": {},
     "output_type": "execute_result"
    }
   ],
   "source": [
    "open(\"README.md\",\"r\") |> (io-> read(io, String)) |> (x-> split(x,\"\\r\\n\")) |> (l -> filter(x-> length(x) > 0, l)) .|> length"
   ]
  },
  {
   "cell_type": "code",
   "execution_count": null,
   "id": "a06dd2a3-48ab-4009-9570-a5c36ffcd83e",
   "metadata": {},
   "outputs": [],
   "source": []
  }
 ],
 "metadata": {
  "kernelspec": {
   "display_name": "Julia 1.7.3",
   "language": "julia",
   "name": "julia-1.7"
  },
  "language_info": {
   "file_extension": ".jl",
   "mimetype": "application/julia",
   "name": "julia",
   "version": "1.7.3"
  }
 },
 "nbformat": 4,
 "nbformat_minor": 5
}
