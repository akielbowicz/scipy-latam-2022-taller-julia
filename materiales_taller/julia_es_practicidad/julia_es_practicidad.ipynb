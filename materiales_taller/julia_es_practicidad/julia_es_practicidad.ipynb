{
 "cells": [
  {
   "cell_type": "markdown",
   "id": "05614e09-0220-4beb-b9cd-88c450360b36",
   "metadata": {
    "tags": []
   },
   "source": [
    "# Julia es practicidad\n",
    "\n",
    "## Elementos básicos del lenguaje\n",
    "\n",
    "[Documentación oficial](https://docs.julialang.org/en/v1/)"
   ]
  },
  {
   "cell_type": "markdown",
   "id": "7b987dc7-6815-452c-945f-c93e428e0026",
   "metadata": {
    "jp-MarkdownHeadingCollapsed": true,
    "tags": []
   },
   "source": [
    "### Booleanos"
   ]
  },
  {
   "cell_type": "code",
   "execution_count": 45,
   "id": "673e7555-8642-4824-ad69-a6097a1bf348",
   "metadata": {},
   "outputs": [
    {
     "data": {
      "text/plain": [
       "true"
      ]
     },
     "execution_count": 45,
     "metadata": {},
     "output_type": "execute_result"
    }
   ],
   "source": [
    "true"
   ]
  },
  {
   "cell_type": "code",
   "execution_count": 46,
   "id": "5bf3d92a-4110-47e0-9d5f-9a618c2017bf",
   "metadata": {},
   "outputs": [
    {
     "data": {
      "text/plain": [
       "false"
      ]
     },
     "execution_count": 46,
     "metadata": {},
     "output_type": "execute_result"
    }
   ],
   "source": [
    "false"
   ]
  },
  {
   "cell_type": "code",
   "execution_count": 49,
   "id": "5ec9958c-b508-4b40-9bf7-6383b1cb41ff",
   "metadata": {},
   "outputs": [
    {
     "data": {
      "text/plain": [
       "false"
      ]
     },
     "execution_count": 49,
     "metadata": {},
     "output_type": "execute_result"
    }
   ],
   "source": [
    "true & false"
   ]
  },
  {
   "cell_type": "markdown",
   "id": "58bacd06-2ec3-4c73-8840-0abbf957a09f",
   "metadata": {
    "jp-MarkdownHeadingCollapsed": true,
    "tags": []
   },
   "source": [
    "### Números"
   ]
  },
  {
   "cell_type": "code",
   "execution_count": 6,
   "id": "931a087d-7ae1-4c77-9433-b510a89b74ec",
   "metadata": {},
   "outputs": [
    {
     "data": {
      "text/plain": [
       "3"
      ]
     },
     "execution_count": 6,
     "metadata": {},
     "output_type": "execute_result"
    }
   ],
   "source": [
    "1 + 2"
   ]
  },
  {
   "cell_type": "code",
   "execution_count": 7,
   "id": "e561ed3b-a395-4a82-9d0e-3315a32a0200",
   "metadata": {},
   "outputs": [
    {
     "data": {
      "text/plain": [
       "3.0"
      ]
     },
     "execution_count": 7,
     "metadata": {},
     "output_type": "execute_result"
    }
   ],
   "source": [
    "1 + 2.0"
   ]
  },
  {
   "cell_type": "code",
   "execution_count": 10,
   "id": "d789040f-86bf-4274-85ef-c17d222b9ac4",
   "metadata": {},
   "outputs": [
    {
     "data": {
      "text/plain": [
       "Inf"
      ]
     },
     "execution_count": 10,
     "metadata": {},
     "output_type": "execute_result"
    }
   ],
   "source": [
    "1 / 0"
   ]
  },
  {
   "cell_type": "code",
   "execution_count": 12,
   "id": "d5e4b35f-5486-46cc-9e14-04b48a916361",
   "metadata": {},
   "outputs": [
    {
     "data": {
      "text/plain": [
       "NaN"
      ]
     },
     "execution_count": 12,
     "metadata": {},
     "output_type": "execute_result"
    }
   ],
   "source": [
    "NaN + 1"
   ]
  },
  {
   "cell_type": "code",
   "execution_count": 14,
   "id": "5e2acc80-d929-49ba-95f6-e60fb6b403e7",
   "metadata": {},
   "outputs": [
    {
     "data": {
      "text/plain": [
       "1//2"
      ]
     },
     "execution_count": 14,
     "metadata": {},
     "output_type": "execute_result"
    }
   ],
   "source": [
    "2 // 4"
   ]
  },
  {
   "cell_type": "markdown",
   "id": "8db60048-1910-4c56-b63d-1164cbd0be9c",
   "metadata": {
    "jp-MarkdownHeadingCollapsed": true,
    "tags": []
   },
   "source": [
    "### Caracteres y Cadenas (*Strings*)"
   ]
  },
  {
   "cell_type": "code",
   "execution_count": 4,
   "id": "0c30418b-e3e5-4419-a499-93ec8ae85e27",
   "metadata": {},
   "outputs": [
    {
     "data": {
      "text/plain": [
       "'A': ASCII/Unicode U+0041 (category Lu: Letter, uppercase)"
      ]
     },
     "execution_count": 4,
     "metadata": {},
     "output_type": "execute_result"
    }
   ],
   "source": [
    "'A'"
   ]
  },
  {
   "cell_type": "code",
   "execution_count": 5,
   "id": "b73244c9-e3d2-4d96-88a8-3f3677d51cad",
   "metadata": {},
   "outputs": [
    {
     "data": {
      "text/plain": [
       "\"A\""
      ]
     },
     "execution_count": 5,
     "metadata": {},
     "output_type": "execute_result"
    }
   ],
   "source": [
    "\"A\""
   ]
  },
  {
   "cell_type": "code",
   "execution_count": 16,
   "id": "8766a0b1-9290-475f-8357-35819164f0b0",
   "metadata": {},
   "outputs": [
    {
     "data": {
      "text/plain": [
       "\"Hola SciPy Latam\""
      ]
     },
     "execution_count": 16,
     "metadata": {},
     "output_type": "execute_result"
    }
   ],
   "source": [
    "saludo = \"Hola SciPy Latam\""
   ]
  },
  {
   "cell_type": "code",
   "execution_count": 22,
   "id": "7302f20e-7deb-4d63-9f37-701947e79f00",
   "metadata": {},
   "outputs": [
    {
     "data": {
      "text/plain": [
       "\"desde Salta!!\""
      ]
     },
     "execution_count": 22,
     "metadata": {},
     "output_type": "execute_result"
    }
   ],
   "source": [
    "desde = \"desde Salta!!\""
   ]
  },
  {
   "cell_type": "code",
   "execution_count": 66,
   "id": "30992650-aead-4bb5-9941-7dd7b7ee0584",
   "metadata": {},
   "outputs": [
    {
     "data": {
      "text/plain": [
       "\"Hola SciPy Latam, desde Salta!!\""
      ]
     },
     "execution_count": 66,
     "metadata": {},
     "output_type": "execute_result"
    }
   ],
   "source": [
    "mensaje = saludo * \", \" * desde"
   ]
  },
  {
   "cell_type": "code",
   "execution_count": 20,
   "id": "c5c6f628-581d-446b-800a-680eacc53779",
   "metadata": {},
   "outputs": [
    {
     "data": {
      "text/plain": [
       "\"S A\""
      ]
     },
     "execution_count": 20,
     "metadata": {},
     "output_type": "execute_result"
    }
   ],
   "source": [
    "\"S $ans\""
   ]
  },
  {
   "cell_type": "code",
   "execution_count": 21,
   "id": "955e02e9-90fa-48ff-8452-a6ea55473e2e",
   "metadata": {},
   "outputs": [
    {
     "data": {
      "text/plain": [
       "\"B S AS A\""
      ]
     },
     "execution_count": 21,
     "metadata": {},
     "output_type": "execute_result"
    }
   ],
   "source": [
    "\"B $(ans * ans)\""
   ]
  },
  {
   "cell_type": "markdown",
   "id": "d33c5dea-2dfd-4d1b-8501-62647f054009",
   "metadata": {},
   "source": [
    "## Colecciones y Estructuras de Datos"
   ]
  },
  {
   "cell_type": "markdown",
   "id": "b9ad1b63-1dfb-4ab4-9f68-07a7402e16df",
   "metadata": {
    "jp-MarkdownHeadingCollapsed": true,
    "tags": []
   },
   "source": [
    "### Arreglos (*Arrays*), Matrices y Vectores"
   ]
  },
  {
   "cell_type": "code",
   "execution_count": 22,
   "id": "1909c109-21f2-4245-bcf7-9e19b3c97413",
   "metadata": {},
   "outputs": [
    {
     "data": {
      "text/plain": [
       "1×3 Matrix{Int64}:\n",
       " 1  2  3"
      ]
     },
     "execution_count": 22,
     "metadata": {},
     "output_type": "execute_result"
    }
   ],
   "source": [
    "A = [1 2 3]"
   ]
  },
  {
   "cell_type": "code",
   "execution_count": 23,
   "id": "f7e1cb4e-f0a9-459f-b4f6-ab6d67793b06",
   "metadata": {},
   "outputs": [
    {
     "data": {
      "text/plain": [
       "3-element Vector{Int64}:\n",
       " 1\n",
       " 2\n",
       " 3"
      ]
     },
     "execution_count": 23,
     "metadata": {},
     "output_type": "execute_result"
    }
   ],
   "source": [
    "B = [1,2,3]"
   ]
  },
  {
   "cell_type": "code",
   "execution_count": 24,
   "id": "48443b2c-2a4a-43d7-9e24-e37e4e36f1fc",
   "metadata": {},
   "outputs": [
    {
     "data": {
      "text/plain": [
       "2×2 Matrix{Int64}:\n",
       " 1  2\n",
       " 3  4"
      ]
     },
     "execution_count": 24,
     "metadata": {},
     "output_type": "execute_result"
    }
   ],
   "source": [
    "C = [ 1 2 \n",
    "      3 4 ]"
   ]
  },
  {
   "cell_type": "code",
   "execution_count": 29,
   "id": "2c7c2ea1-5bc7-4f30-b0c7-6f7f0979160a",
   "metadata": {},
   "outputs": [
    {
     "data": {
      "text/plain": [
       "3-element Vector{Int64}:\n",
       " 1\n",
       " 2\n",
       " 3"
      ]
     },
     "execution_count": 29,
     "metadata": {},
     "output_type": "execute_result"
    }
   ],
   "source": [
    "D = [ 1;2;3 ]"
   ]
  },
  {
   "cell_type": "markdown",
   "id": "b620d83c-936a-4e03-b165-ebea3516a59d",
   "metadata": {
    "jp-MarkdownHeadingCollapsed": true,
    "tags": []
   },
   "source": [
    "### Tuplas, Diccionarios y *Sets*"
   ]
  },
  {
   "cell_type": "code",
   "execution_count": 26,
   "id": "c4e92c2c-86d8-49d5-bb95-a686a2e3a87c",
   "metadata": {},
   "outputs": [
    {
     "data": {
      "text/plain": [
       "(1, \"S\")"
      ]
     },
     "execution_count": 26,
     "metadata": {},
     "output_type": "execute_result"
    }
   ],
   "source": [
    "t = (1,\"S\")"
   ]
  },
  {
   "cell_type": "code",
   "execution_count": 27,
   "id": "7de5d045-d112-43e6-b95b-de3c285fb9f0",
   "metadata": {},
   "outputs": [
    {
     "data": {
      "text/plain": [
       "Dict{Int64, String} with 2 entries:\n",
       "  2 => \"S\"\n",
       "  1 => \"S\""
      ]
     },
     "execution_count": 27,
     "metadata": {},
     "output_type": "execute_result"
    }
   ],
   "source": [
    "d = Dict([t,(2,\"S\")])"
   ]
  },
  {
   "cell_type": "code",
   "execution_count": 28,
   "id": "49821985-1b43-41a8-b8bd-a79699040e0e",
   "metadata": {},
   "outputs": [
    {
     "data": {
      "text/plain": [
       "Dict{String, String} with 2 entries:\n",
       "  \"lugar\"  => \"Salta\"\n",
       "  \"evento\" => \"SciPy\""
      ]
     },
     "execution_count": 28,
     "metadata": {},
     "output_type": "execute_result"
    }
   ],
   "source": [
    "d2 = Dict(\"evento\"=>\"SciPy\",\"lugar\"=>\"Salta\")"
   ]
  },
  {
   "cell_type": "code",
   "execution_count": 29,
   "id": "179f0527-fb02-4879-ab0b-e6ec9decf130",
   "metadata": {},
   "outputs": [
    {
     "data": {
      "text/plain": [
       "\"SciPy\""
      ]
     },
     "execution_count": 29,
     "metadata": {},
     "output_type": "execute_result"
    }
   ],
   "source": [
    "d2[\"evento\"]"
   ]
  },
  {
   "cell_type": "code",
   "execution_count": 31,
   "id": "d80ce028-2107-4f8c-ac68-aeabf85c9b1d",
   "metadata": {},
   "outputs": [
    {
     "data": {
      "text/plain": [
       "Set{Int64} with 4 elements:\n",
       "  4\n",
       "  2\n",
       "  3\n",
       "  1"
      ]
     },
     "execution_count": 31,
     "metadata": {},
     "output_type": "execute_result"
    }
   ],
   "source": [
    "s = Set([1,2,2,1,3,4,4])"
   ]
  },
  {
   "cell_type": "code",
   "execution_count": 32,
   "id": "d43ead62-8ca2-4d1f-a60c-4a52285a5a75",
   "metadata": {},
   "outputs": [
    {
     "data": {
      "text/plain": [
       "(Set(['P', 'H', 'a', 'c', 'o', 'm', 'S', 'L', 'y', 'l', 'i', 't', ' ']), Set(['!', 'd', 'a', 'e', 'S', 's', 'l', 't', ' ']))"
      ]
     },
     "execution_count": 32,
     "metadata": {},
     "output_type": "execute_result"
    }
   ],
   "source": [
    "s1, s2 = Set(saludo), Set(desde)"
   ]
  },
  {
   "cell_type": "code",
   "execution_count": 41,
   "id": "dd392f90-fb17-438e-8ceb-514c934d810c",
   "metadata": {},
   "outputs": [
    {
     "data": {
      "text/plain": [
       "true"
      ]
     },
     "execution_count": 41,
     "metadata": {},
     "output_type": "execute_result"
    }
   ],
   "source": [
    "'a' ∈ s2"
   ]
  },
  {
   "cell_type": "code",
   "execution_count": 38,
   "id": "6c67b32b-0b52-4ee8-aaf9-9fb9eec8bcba",
   "metadata": {},
   "outputs": [
    {
     "data": {
      "text/plain": [
       "Set{Char} with 17 elements:\n",
       "  '!'\n",
       "  'd'\n",
       "  'e'\n",
       "  'o'\n",
       "  'y'\n",
       "  'i'\n",
       "  't'\n",
       "  's'\n",
       "  ' '\n",
       "  'P'\n",
       "  'H'\n",
       "  'a'\n",
       "  'c'\n",
       "  'm'\n",
       "  'S'\n",
       "  'L'\n",
       "  'l'"
      ]
     },
     "execution_count": 38,
     "metadata": {},
     "output_type": "execute_result"
    }
   ],
   "source": [
    "s1 ∪ s2 "
   ]
  },
  {
   "cell_type": "code",
   "execution_count": 39,
   "id": "2ca48837-daf5-453f-babc-b06160939d85",
   "metadata": {},
   "outputs": [
    {
     "data": {
      "text/plain": [
       "Set{Char} with 5 elements:\n",
       "  'a'\n",
       "  'l'\n",
       "  't'\n",
       "  'S'\n",
       "  ' '"
      ]
     },
     "execution_count": 39,
     "metadata": {},
     "output_type": "execute_result"
    }
   ],
   "source": [
    "s1 ∩ s2"
   ]
  },
  {
   "cell_type": "markdown",
   "id": "9dfd419d-e29f-4da3-b822-b01b52575c4d",
   "metadata": {
    "jp-MarkdownHeadingCollapsed": true,
    "tags": []
   },
   "source": [
    "### Rangos"
   ]
  },
  {
   "cell_type": "code",
   "execution_count": 42,
   "id": "b3b2ad22-6cc9-4d78-bf64-ee26fc93ff4c",
   "metadata": {},
   "outputs": [
    {
     "data": {
      "text/plain": [
       "0.0:0.1111111111111111:1.0"
      ]
     },
     "execution_count": 42,
     "metadata": {},
     "output_type": "execute_result"
    }
   ],
   "source": [
    "r = range(0,1,10)"
   ]
  },
  {
   "cell_type": "code",
   "execution_count": 44,
   "id": "43182a88-e562-4f84-8642-fa62454f2da7",
   "metadata": {},
   "outputs": [
    {
     "data": {
      "text/plain": [
       "-1.0:0.01:1.0"
      ]
     },
     "execution_count": 44,
     "metadata": {},
     "output_type": "execute_result"
    }
   ],
   "source": [
    "r2 = -1:0.01:1"
   ]
  },
  {
   "cell_type": "markdown",
   "id": "d207179e-2a05-4805-8b17-c34a95248243",
   "metadata": {
    "jp-MarkdownHeadingCollapsed": true,
    "tags": []
   },
   "source": [
    "## Iteraciones"
   ]
  },
  {
   "cell_type": "code",
   "execution_count": 122,
   "id": "cf957ca9-6443-4a14-9c17-245e4e7eeb3b",
   "metadata": {},
   "outputs": [
    {
     "data": {
      "text/plain": [
       "11"
      ]
     },
     "execution_count": 122,
     "metadata": {},
     "output_type": "execute_result"
    }
   ],
   "source": [
    "🐇 = 1\n",
    "\n",
    "for 🥕 in [1, 2, 3, 4, ]\n",
    "    🐇 += 🥕 \n",
    "end\n",
    "\n",
    "🐇"
   ]
  },
  {
   "cell_type": "code",
   "execution_count": 54,
   "id": "de978c95-e395-4cfa-8747-176a85b10315",
   "metadata": {},
   "outputs": [],
   "source": [
    "x = 0\n",
    "for i ∈ 1:5, j ∈ 1:0.1:2\n",
    "    x += i*j\n",
    "end"
   ]
  },
  {
   "cell_type": "code",
   "execution_count": 55,
   "id": "54d1dca3-68bc-4c2b-94f9-1146a20e4fe4",
   "metadata": {},
   "outputs": [
    {
     "data": {
      "text/plain": [
       "247.5"
      ]
     },
     "execution_count": 55,
     "metadata": {},
     "output_type": "execute_result"
    }
   ],
   "source": [
    "x"
   ]
  },
  {
   "cell_type": "code",
   "execution_count": 56,
   "id": "29408a1f-0269-4717-b679-7175b95584f2",
   "metadata": {},
   "outputs": [
    {
     "data": {
      "text/plain": [
       "20-element Vector{Float64}:\n",
       " 0.0\n",
       " 0.10526315789473684\n",
       " 0.21052631578947367\n",
       " 0.3157894736842105\n",
       " 0.42105263157894735\n",
       " 0.5263157894736842\n",
       " 0.631578947368421\n",
       " 0.7368421052631579\n",
       " 0.8421052631578947\n",
       " 0.9473684210526315\n",
       " 1.0526315789473684\n",
       " 1.1578947368421053\n",
       " 1.263157894736842\n",
       " 1.368421052631579\n",
       " 1.4736842105263157\n",
       " 1.5789473684210527\n",
       " 1.6842105263157894\n",
       " 1.7894736842105263\n",
       " 1.894736842105263\n",
       " 2.0"
      ]
     },
     "execution_count": 56,
     "metadata": {},
     "output_type": "execute_result"
    }
   ],
   "source": [
    "[ x*2 for x in range(0,1,20) ]"
   ]
  },
  {
   "cell_type": "code",
   "execution_count": 83,
   "id": "aff39103-5464-4830-a2d8-5b40eb52c231",
   "metadata": {},
   "outputs": [
    {
     "data": {
      "text/plain": [
       "5×4 Matrix{Float64}:\n",
       " 0.0  0.0   0.0  0.0\n",
       " 0.0  0.25  0.5  0.75\n",
       " 0.0  0.5   1.0  1.5\n",
       " 0.0  0.75  1.5  2.25\n",
       " 0.0  1.0   2.0  3.0"
      ]
     },
     "execution_count": 83,
     "metadata": {},
     "output_type": "execute_result"
    }
   ],
   "source": [
    "M = [ x*y for x in range(0,1,5), y in 0:3 ]"
   ]
  },
  {
   "cell_type": "markdown",
   "id": "3ae45c10-0e7b-485a-8be3-8cba53df4069",
   "metadata": {
    "jp-MarkdownHeadingCollapsed": true,
    "tags": []
   },
   "source": [
    "## Indexación y *slicing*"
   ]
  },
  {
   "cell_type": "code",
   "execution_count": 76,
   "id": "09c059f8-6459-4e67-a277-ff4f0efdb079",
   "metadata": {},
   "outputs": [
    {
     "ename": "LoadError",
     "evalue": "BoundsError: attempt to access 31-codeunit String at index [0]",
     "output_type": "error",
     "traceback": [
      "BoundsError: attempt to access 31-codeunit String at index [0]",
      "",
      "Stacktrace:",
      " [1] checkbounds",
      "   @ .\\strings\\basic.jl:216 [inlined]",
      " [2] codeunit",
      "   @ .\\strings\\string.jl:102 [inlined]",
      " [3] getindex(s::String, i::Int64)",
      "   @ Base .\\strings\\string.jl:223",
      " [4] top-level scope",
      "   @ In[76]:1",
      " [5] eval",
      "   @ .\\boot.jl:373 [inlined]",
      " [6] include_string(mapexpr::typeof(REPL.softscope), mod::Module, code::String, filename::String)",
      "   @ Base .\\loading.jl:1196"
     ]
    }
   ],
   "source": [
    "mensaje[0]"
   ]
  },
  {
   "cell_type": "code",
   "execution_count": 77,
   "id": "e464c500-02f2-40b4-ab16-5b261124ccb8",
   "metadata": {},
   "outputs": [
    {
     "data": {
      "text/plain": [
       "'H': ASCII/Unicode U+0048 (category Lu: Letter, uppercase)"
      ]
     },
     "execution_count": 77,
     "metadata": {},
     "output_type": "execute_result"
    }
   ],
   "source": [
    "mensaje[1]"
   ]
  },
  {
   "cell_type": "code",
   "execution_count": 81,
   "id": "aba77391-36bd-4661-bc47-daaad55adcdd",
   "metadata": {},
   "outputs": [
    {
     "data": {
      "text/plain": [
       "\"a SciPy Latam, desde Salt\""
      ]
     },
     "execution_count": 81,
     "metadata": {},
     "output_type": "execute_result"
    }
   ],
   "source": [
    "mensaje[begin+3:end-3]"
   ]
  },
  {
   "cell_type": "code",
   "execution_count": 82,
   "id": "2d24ff95-169e-4a77-b905-300af244c7ca",
   "metadata": {},
   "outputs": [
    {
     "data": {
      "text/plain": [
       "\"Hl \""
      ]
     },
     "execution_count": 82,
     "metadata": {},
     "output_type": "execute_result"
    }
   ],
   "source": [
    "mensaje[[1,3,5]]"
   ]
  },
  {
   "cell_type": "code",
   "execution_count": 84,
   "id": "c25cf386-1e3d-4fec-afa9-c4e341984fe8",
   "metadata": {},
   "outputs": [
    {
     "data": {
      "text/plain": [
       "0.0"
      ]
     },
     "execution_count": 84,
     "metadata": {},
     "output_type": "execute_result"
    }
   ],
   "source": [
    "M[1,1]"
   ]
  },
  {
   "cell_type": "code",
   "execution_count": 86,
   "id": "dae96c56-4bd4-4b07-9281-21d3a4744916",
   "metadata": {},
   "outputs": [
    {
     "data": {
      "text/plain": [
       "5-element Vector{Float64}:\n",
       " 0.0\n",
       " 0.25\n",
       " 0.5\n",
       " 0.75\n",
       " 1.0"
      ]
     },
     "execution_count": 86,
     "metadata": {},
     "output_type": "execute_result"
    }
   ],
   "source": [
    "M[:,2]"
   ]
  },
  {
   "cell_type": "code",
   "execution_count": 87,
   "id": "db3a7dea-c877-405f-bde8-12e0c4211ce4",
   "metadata": {},
   "outputs": [
    {
     "data": {
      "text/plain": [
       "2-element Vector{Float64}:\n",
       " 0.0\n",
       " 0.5"
      ]
     },
     "execution_count": 87,
     "metadata": {},
     "output_type": "execute_result"
    }
   ],
   "source": [
    "M[3,1:2]"
   ]
  },
  {
   "cell_type": "code",
   "execution_count": 89,
   "id": "3301579b-032d-449d-a8a4-5d244c88c2ef",
   "metadata": {},
   "outputs": [
    {
     "data": {
      "text/plain": [
       "2-element Vector{Float64}:\n",
       " 0.0\n",
       " 0.25"
      ]
     },
     "execution_count": 89,
     "metadata": {},
     "output_type": "execute_result"
    }
   ],
   "source": [
    "M[[1,2],end-2]"
   ]
  },
  {
   "cell_type": "markdown",
   "id": "e35ea7f1-dc5c-4d73-8eff-a59fc7bb109a",
   "metadata": {
    "jp-MarkdownHeadingCollapsed": true,
    "tags": []
   },
   "source": [
    "## Funciones"
   ]
  },
  {
   "cell_type": "code",
   "execution_count": 4,
   "id": "f515af84-8920-4539-968b-514a8f95f3d6",
   "metadata": {},
   "outputs": [
    {
     "data": {
      "text/plain": [
       "f (generic function with 1 method)"
      ]
     },
     "execution_count": 4,
     "metadata": {},
     "output_type": "execute_result"
    }
   ],
   "source": [
    "f(x) = x^2"
   ]
  },
  {
   "cell_type": "code",
   "execution_count": 5,
   "id": "2c719279-3695-4c41-a57a-78eccce0008a",
   "metadata": {},
   "outputs": [
    {
     "data": {
      "text/plain": [
       "f (generic function with 2 methods)"
      ]
     },
     "execution_count": 5,
     "metadata": {},
     "output_type": "execute_result"
    }
   ],
   "source": [
    "function f(x,y)\n",
    "    x+y\n",
    "end"
   ]
  },
  {
   "cell_type": "code",
   "execution_count": 7,
   "id": "ac77bca0-23ff-452d-b4b1-9470473ed785",
   "metadata": {},
   "outputs": [
    {
     "data": {
      "text/html": [
       "# 2 methods for generic function <b>f</b>:<ul><li> f(x) in Main at In[4]:1</li> <li> f(x, y) in Main at In[5]:1</li> </ul>"
      ],
      "text/plain": [
       "# 2 methods for generic function \"f\":\n",
       "[1] f(x) in Main at In[4]:1\n",
       "[2] f(x, y) in Main at In[5]:1"
      ]
     },
     "execution_count": 7,
     "metadata": {},
     "output_type": "execute_result"
    }
   ],
   "source": [
    "methods(f)"
   ]
  },
  {
   "cell_type": "code",
   "execution_count": 12,
   "id": "b073139d-6c62-4950-94ce-75048ca23a2b",
   "metadata": {},
   "outputs": [
    {
     "data": {
      "text/plain": [
       "f (generic function with 2 methods)"
      ]
     },
     "execution_count": 12,
     "metadata": {},
     "output_type": "execute_result"
    }
   ],
   "source": [
    "function f(x ; n=10)\n",
    "    for i in 1:n\n",
    "        x += x^i\n",
    "    end\n",
    "    x\n",
    "end"
   ]
  },
  {
   "cell_type": "code",
   "execution_count": 60,
   "id": "923715b2-b52d-4850-9044-9eb9c941df6f",
   "metadata": {},
   "outputs": [
    {
     "data": {
      "text/plain": [
       "G (generic function with 1 method)"
      ]
     },
     "execution_count": 60,
     "metadata": {},
     "output_type": "execute_result"
    }
   ],
   "source": [
    "G(f,y) = f(y+2)"
   ]
  },
  {
   "cell_type": "code",
   "execution_count": 61,
   "id": "8b7e1562-cfe0-4a6d-9688-a89fbc5c314b",
   "metadata": {},
   "outputs": [
    {
     "data": {
      "text/plain": [
       "9"
      ]
     },
     "execution_count": 61,
     "metadata": {},
     "output_type": "execute_result"
    }
   ],
   "source": [
    "G(x-> x+5, 2)"
   ]
  },
  {
   "cell_type": "markdown",
   "id": "47f18da9-fddb-4330-b1bd-d7edcf8747df",
   "metadata": {
    "tags": []
   },
   "source": [
    "### Funciones útiles"
   ]
  },
  {
   "cell_type": "code",
   "execution_count": 62,
   "id": "ed8d769b-36b2-4fe0-ae84-b6932ed86b30",
   "metadata": {},
   "outputs": [
    {
     "name": "stdout",
     "output_type": "stream",
     "text": [
      "4\n"
     ]
    }
   ],
   "source": [
    "println(\"4\")"
   ]
  },
  {
   "cell_type": "code",
   "execution_count": 69,
   "id": "c567dedd-d36e-4497-8c43-fd4aea370637",
   "metadata": {},
   "outputs": [
    {
     "data": {
      "text/plain": [
       "10-element Vector{Int64}:\n",
       "  1\n",
       "  2\n",
       "  3\n",
       "  4\n",
       "  5\n",
       "  6\n",
       "  7\n",
       "  8\n",
       "  9\n",
       " 10"
      ]
     },
     "execution_count": 69,
     "metadata": {},
     "output_type": "execute_result"
    }
   ],
   "source": [
    "collect(1:10)"
   ]
  },
  {
   "cell_type": "markdown",
   "id": "1a82103c-4d28-4995-8852-66ca0ed25384",
   "metadata": {},
   "source": [
    "#### Matemáticas"
   ]
  },
  {
   "cell_type": "code",
   "execution_count": 100,
   "id": "884634a5-77c6-46df-bfca-3ba58c1f2b70",
   "metadata": {},
   "outputs": [
    {
     "data": {
      "text/plain": [
       "7-element Vector{Function}:\n",
       " sin (generic function with 13 methods)\n",
       " cos (generic function with 13 methods)\n",
       " exp (generic function with 14 methods)\n",
       " exp10 (generic function with 7 methods)\n",
       " log (generic function with 23 methods)\n",
       " log2 (generic function with 8 methods)\n",
       " tan (generic function with 12 methods)"
      ]
     },
     "execution_count": 100,
     "metadata": {},
     "output_type": "execute_result"
    }
   ],
   "source": [
    "funciones = [sin, cos, exp, exp10, log, log2, tan]"
   ]
  },
  {
   "cell_type": "markdown",
   "id": "b798e2fe-a089-4675-9fcb-30f811030c6d",
   "metadata": {},
   "source": [
    "#### Patrones de Programación Funcional"
   ]
  },
  {
   "cell_type": "code",
   "execution_count": 68,
   "id": "3743fd70-5680-43c3-9c0d-013a40ee4194",
   "metadata": {
    "tags": []
   },
   "outputs": [
    {
     "name": "stdout",
     "output_type": "stream",
     "text": [
      "H\n",
      "o\n",
      "l\n",
      "a\n",
      " \n",
      "S\n",
      "c\n",
      "i\n",
      "P\n",
      "y\n",
      " \n",
      "L\n",
      "a\n",
      "t\n",
      "a\n",
      "m\n",
      ",\n",
      " \n",
      "d\n",
      "e\n",
      "s\n",
      "d\n",
      "e\n",
      " \n",
      "S\n",
      "a\n",
      "l\n",
      "t\n",
      "a\n",
      "!\n",
      "!\n"
     ]
    },
    {
     "data": {
      "text/plain": [
       "31-element Vector{Nothing}:\n",
       " nothing\n",
       " nothing\n",
       " nothing\n",
       " nothing\n",
       " nothing\n",
       " nothing\n",
       " nothing\n",
       " nothing\n",
       " nothing\n",
       " nothing\n",
       " nothing\n",
       " nothing\n",
       " nothing\n",
       " ⋮\n",
       " nothing\n",
       " nothing\n",
       " nothing\n",
       " nothing\n",
       " nothing\n",
       " nothing\n",
       " nothing\n",
       " nothing\n",
       " nothing\n",
       " nothing\n",
       " nothing\n",
       " nothing"
      ]
     },
     "execution_count": 68,
     "metadata": {},
     "output_type": "execute_result"
    }
   ],
   "source": [
    "map(println, collect(mensaje))"
   ]
  },
  {
   "cell_type": "code",
   "execution_count": 71,
   "id": "944847ba-0c87-4a84-b831-d81306e846ae",
   "metadata": {},
   "outputs": [
    {
     "data": {
      "text/plain": [
       "10-element Vector{Float64}:\n",
       " 0.1\n",
       " 0.2\n",
       " 0.3\n",
       " 0.4\n",
       " 0.5\n",
       " 0.6\n",
       " 0.7\n",
       " 0.8\n",
       " 0.9\n",
       " 1.0"
      ]
     },
     "execution_count": 71,
     "metadata": {},
     "output_type": "execute_result"
    }
   ],
   "source": [
    "filter(x -> x> 0, -1:0.1:1)"
   ]
  },
  {
   "cell_type": "code",
   "execution_count": 99,
   "id": "891bb9bd-16ab-4b34-b31a-3a467273facb",
   "metadata": {},
   "outputs": [
    {
     "data": {
      "text/plain": [
       "89"
      ]
     },
     "execution_count": 99,
     "metadata": {},
     "output_type": "execute_result"
    }
   ],
   "source": [
    "reduce( (x,y) -> x + 2y,  1:9)"
   ]
  },
  {
   "cell_type": "code",
   "execution_count": 101,
   "id": "0b1135f8-eac3-4819-b1b7-a0db69dad5dd",
   "metadata": {},
   "outputs": [
    {
     "data": {
      "text/plain": [
       "6-element Vector{Function}:\n",
       " all (generic function with 9 methods)\n",
       " any (generic function with 9 methods)\n",
       " sum (generic function with 14 methods)\n",
       " prod (generic function with 6 methods)\n",
       " max (generic function with 12 methods)\n",
       " min (generic function with 12 methods)"
      ]
     },
     "execution_count": 101,
     "metadata": {},
     "output_type": "execute_result"
    }
   ],
   "source": [
    "reducer = [ all, any, sum, prod, max, min ]"
   ]
  },
  {
   "cell_type": "markdown",
   "id": "bd2b3294-ac55-4351-8a4e-76f74bfce35d",
   "metadata": {},
   "source": [
    "#### Utilidades"
   ]
  },
  {
   "cell_type": "code",
   "execution_count": 98,
   "id": "0696744e-1601-4419-a162-9c31f1a06ae7",
   "metadata": {},
   "outputs": [
    {
     "name": "stdout",
     "output_type": "stream",
     "text": [
      "search: \u001b[0m\u001b[1mr\u001b[22m\u001b[0m\u001b[1me\u001b[22m\u001b[0m\u001b[1md\u001b[22m\u001b[0m\u001b[1mu\u001b[22m\u001b[0m\u001b[1mc\u001b[22m\u001b[0m\u001b[1me\u001b[22m map\u001b[0m\u001b[1mr\u001b[22m\u001b[0m\u001b[1me\u001b[22m\u001b[0m\u001b[1md\u001b[22m\u001b[0m\u001b[1mu\u001b[22m\u001b[0m\u001b[1mc\u001b[22m\u001b[0m\u001b[1me\u001b[22m\n",
      "\n"
     ]
    },
    {
     "data": {
      "text/latex": [
       "\\begin{verbatim}\n",
       "reduce(op, itr; [init])\n",
       "\\end{verbatim}\n",
       "Reduce the given collection \\texttt{itr} with the given binary operator \\texttt{op}. If provided, the initial value \\texttt{init} must be a neutral element for \\texttt{op} that will be returned for empty collections. It is unspecified whether \\texttt{init} is used for non-empty collections.\n",
       "\n",
       "For empty collections, providing \\texttt{init} will be necessary, except for some special cases (e.g. when \\texttt{op} is one of \\texttt{+}, \\texttt{*}, \\texttt{max}, \\texttt{min}, \\texttt{\\&}, \\texttt{|}) when Julia can determine the neutral element of \\texttt{op}.\n",
       "\n",
       "Reductions for certain commonly-used operators may have special implementations, and should be used instead: \\texttt{maximum(itr)}, \\texttt{minimum(itr)}, \\texttt{sum(itr)}, \\texttt{prod(itr)},  \\texttt{any(itr)}, \\texttt{all(itr)}.\n",
       "\n",
       "The associativity of the reduction is implementation dependent. This means that you can't use non-associative operations like \\texttt{-} because it is undefined whether \\texttt{reduce(-,[1,2,3])} should be evaluated as \\texttt{(1-2)-3} or \\texttt{1-(2-3)}. Use \\href{@ref}{\\texttt{foldl}} or \\href{@ref}{\\texttt{foldr}} instead for guaranteed left or right associativity.\n",
       "\n",
       "Some operations accumulate error. Parallelism will be easier if the reduction can be executed in groups. Future versions of Julia might change the algorithm. Note that the elements are not reordered if you use an ordered collection.\n",
       "\n",
       "\\section{Examples}\n",
       "\\begin{verbatim}\n",
       "julia> reduce(*, [2; 3; 4])\n",
       "24\n",
       "\n",
       "julia> reduce(*, [2; 3; 4]; init=-1)\n",
       "-24\n",
       "\\end{verbatim}\n",
       "\\rule{\\textwidth}{1pt}\n",
       "\\begin{verbatim}\n",
       "reduce(f, A; dims=:, [init])\n",
       "\\end{verbatim}\n",
       "Reduce 2-argument function \\texttt{f} along dimensions of \\texttt{A}. \\texttt{dims} is a vector specifying the dimensions to reduce, and the keyword argument \\texttt{init} is the initial value to use in the reductions. For \\texttt{+}, \\texttt{*}, \\texttt{max} and \\texttt{min} the \\texttt{init} argument is optional.\n",
       "\n",
       "The associativity of the reduction is implementation-dependent; if you need a particular associativity, e.g. left-to-right, you should write your own loop or consider using \\href{@ref}{\\texttt{foldl}} or \\href{@ref}{\\texttt{foldr}}. See documentation for \\href{@ref}{\\texttt{reduce}}.\n",
       "\n",
       "\\section{Examples}\n",
       "\\begin{verbatim}\n",
       "julia> a = reshape(Vector(1:16), (4,4))\n",
       "4×4 Matrix{Int64}:\n",
       " 1  5   9  13\n",
       " 2  6  10  14\n",
       " 3  7  11  15\n",
       " 4  8  12  16\n",
       "\n",
       "julia> reduce(max, a, dims=2)\n",
       "4×1 Matrix{Int64}:\n",
       " 13\n",
       " 14\n",
       " 15\n",
       " 16\n",
       "\n",
       "julia> reduce(max, a, dims=1)\n",
       "1×4 Matrix{Int64}:\n",
       " 4  8  12  16\n",
       "\\end{verbatim}\n"
      ],
      "text/markdown": [
       "```\n",
       "reduce(op, itr; [init])\n",
       "```\n",
       "\n",
       "Reduce the given collection `itr` with the given binary operator `op`. If provided, the initial value `init` must be a neutral element for `op` that will be returned for empty collections. It is unspecified whether `init` is used for non-empty collections.\n",
       "\n",
       "For empty collections, providing `init` will be necessary, except for some special cases (e.g. when `op` is one of `+`, `*`, `max`, `min`, `&`, `|`) when Julia can determine the neutral element of `op`.\n",
       "\n",
       "Reductions for certain commonly-used operators may have special implementations, and should be used instead: `maximum(itr)`, `minimum(itr)`, `sum(itr)`, `prod(itr)`,  `any(itr)`, `all(itr)`.\n",
       "\n",
       "The associativity of the reduction is implementation dependent. This means that you can't use non-associative operations like `-` because it is undefined whether `reduce(-,[1,2,3])` should be evaluated as `(1-2)-3` or `1-(2-3)`. Use [`foldl`](@ref) or [`foldr`](@ref) instead for guaranteed left or right associativity.\n",
       "\n",
       "Some operations accumulate error. Parallelism will be easier if the reduction can be executed in groups. Future versions of Julia might change the algorithm. Note that the elements are not reordered if you use an ordered collection.\n",
       "\n",
       "# Examples\n",
       "\n",
       "```jldoctest\n",
       "julia> reduce(*, [2; 3; 4])\n",
       "24\n",
       "\n",
       "julia> reduce(*, [2; 3; 4]; init=-1)\n",
       "-24\n",
       "```\n",
       "\n",
       "---\n",
       "\n",
       "```\n",
       "reduce(f, A; dims=:, [init])\n",
       "```\n",
       "\n",
       "Reduce 2-argument function `f` along dimensions of `A`. `dims` is a vector specifying the dimensions to reduce, and the keyword argument `init` is the initial value to use in the reductions. For `+`, `*`, `max` and `min` the `init` argument is optional.\n",
       "\n",
       "The associativity of the reduction is implementation-dependent; if you need a particular associativity, e.g. left-to-right, you should write your own loop or consider using [`foldl`](@ref) or [`foldr`](@ref). See documentation for [`reduce`](@ref).\n",
       "\n",
       "# Examples\n",
       "\n",
       "```jldoctest\n",
       "julia> a = reshape(Vector(1:16), (4,4))\n",
       "4×4 Matrix{Int64}:\n",
       " 1  5   9  13\n",
       " 2  6  10  14\n",
       " 3  7  11  15\n",
       " 4  8  12  16\n",
       "\n",
       "julia> reduce(max, a, dims=2)\n",
       "4×1 Matrix{Int64}:\n",
       " 13\n",
       " 14\n",
       " 15\n",
       " 16\n",
       "\n",
       "julia> reduce(max, a, dims=1)\n",
       "1×4 Matrix{Int64}:\n",
       " 4  8  12  16\n",
       "```\n"
      ],
      "text/plain": [
       "\u001b[36m  reduce(op, itr; [init])\u001b[39m\n",
       "\n",
       "  Reduce the given collection \u001b[36mitr\u001b[39m with the given binary operator \u001b[36mop\u001b[39m. If\n",
       "  provided, the initial value \u001b[36minit\u001b[39m must be a neutral element for \u001b[36mop\u001b[39m that will\n",
       "  be returned for empty collections. It is unspecified whether \u001b[36minit\u001b[39m is used\n",
       "  for non-empty collections.\n",
       "\n",
       "  For empty collections, providing \u001b[36minit\u001b[39m will be necessary, except for some\n",
       "  special cases (e.g. when \u001b[36mop\u001b[39m is one of \u001b[36m+\u001b[39m, \u001b[36m*\u001b[39m, \u001b[36mmax\u001b[39m, \u001b[36mmin\u001b[39m, \u001b[36m&\u001b[39m, \u001b[36m|\u001b[39m) when Julia can\n",
       "  determine the neutral element of \u001b[36mop\u001b[39m.\n",
       "\n",
       "  Reductions for certain commonly-used operators may have special\n",
       "  implementations, and should be used instead: \u001b[36mmaximum(itr)\u001b[39m, \u001b[36mminimum(itr)\u001b[39m,\n",
       "  \u001b[36msum(itr)\u001b[39m, \u001b[36mprod(itr)\u001b[39m, \u001b[36many(itr)\u001b[39m, \u001b[36mall(itr)\u001b[39m.\n",
       "\n",
       "  The associativity of the reduction is implementation dependent. This means\n",
       "  that you can't use non-associative operations like \u001b[36m-\u001b[39m because it is undefined\n",
       "  whether \u001b[36mreduce(-,[1,2,3])\u001b[39m should be evaluated as \u001b[36m(1-2)-3\u001b[39m or \u001b[36m1-(2-3)\u001b[39m. Use\n",
       "  \u001b[36mfoldl\u001b[39m or \u001b[36mfoldr\u001b[39m instead for guaranteed left or right associativity.\n",
       "\n",
       "  Some operations accumulate error. Parallelism will be easier if the\n",
       "  reduction can be executed in groups. Future versions of Julia might change\n",
       "  the algorithm. Note that the elements are not reordered if you use an\n",
       "  ordered collection.\n",
       "\n",
       "\u001b[1m  Examples\u001b[22m\n",
       "\u001b[1m  ≡≡≡≡≡≡≡≡≡≡\u001b[22m\n",
       "\n",
       "\u001b[36m  julia> reduce(*, [2; 3; 4])\u001b[39m\n",
       "\u001b[36m  24\u001b[39m\n",
       "\u001b[36m  \u001b[39m\n",
       "\u001b[36m  julia> reduce(*, [2; 3; 4]; init=-1)\u001b[39m\n",
       "\u001b[36m  -24\u001b[39m\n",
       "\n",
       "  ────────────────────────────────────────────────────────────────────────────\n",
       "\n",
       "\u001b[36m  reduce(f, A; dims=:, [init])\u001b[39m\n",
       "\n",
       "  Reduce 2-argument function \u001b[36mf\u001b[39m along dimensions of \u001b[36mA\u001b[39m. \u001b[36mdims\u001b[39m is a vector\n",
       "  specifying the dimensions to reduce, and the keyword argument \u001b[36minit\u001b[39m is the\n",
       "  initial value to use in the reductions. For \u001b[36m+\u001b[39m, \u001b[36m*\u001b[39m, \u001b[36mmax\u001b[39m and \u001b[36mmin\u001b[39m the \u001b[36minit\u001b[39m\n",
       "  argument is optional.\n",
       "\n",
       "  The associativity of the reduction is implementation-dependent; if you need\n",
       "  a particular associativity, e.g. left-to-right, you should write your own\n",
       "  loop or consider using \u001b[36mfoldl\u001b[39m or \u001b[36mfoldr\u001b[39m. See documentation for \u001b[36mreduce\u001b[39m.\n",
       "\n",
       "\u001b[1m  Examples\u001b[22m\n",
       "\u001b[1m  ≡≡≡≡≡≡≡≡≡≡\u001b[22m\n",
       "\n",
       "\u001b[36m  julia> a = reshape(Vector(1:16), (4,4))\u001b[39m\n",
       "\u001b[36m  4×4 Matrix{Int64}:\u001b[39m\n",
       "\u001b[36m   1  5   9  13\u001b[39m\n",
       "\u001b[36m   2  6  10  14\u001b[39m\n",
       "\u001b[36m   3  7  11  15\u001b[39m\n",
       "\u001b[36m   4  8  12  16\u001b[39m\n",
       "\u001b[36m  \u001b[39m\n",
       "\u001b[36m  julia> reduce(max, a, dims=2)\u001b[39m\n",
       "\u001b[36m  4×1 Matrix{Int64}:\u001b[39m\n",
       "\u001b[36m   13\u001b[39m\n",
       "\u001b[36m   14\u001b[39m\n",
       "\u001b[36m   15\u001b[39m\n",
       "\u001b[36m   16\u001b[39m\n",
       "\u001b[36m  \u001b[39m\n",
       "\u001b[36m  julia> reduce(max, a, dims=1)\u001b[39m\n",
       "\u001b[36m  1×4 Matrix{Int64}:\u001b[39m\n",
       "\u001b[36m   4  8  12  16\u001b[39m"
      ]
     },
     "execution_count": 98,
     "metadata": {},
     "output_type": "execute_result"
    }
   ],
   "source": [
    "?reduce"
   ]
  },
  {
   "cell_type": "markdown",
   "id": "85d0526f-e902-4a9b-8617-12fa128136b0",
   "metadata": {},
   "source": [
    "#### Notación de **do**  "
   ]
  },
  {
   "cell_type": "code",
   "execution_count": 115,
   "id": "637ccd16-f69f-4c95-b75d-bbe7008463ad",
   "metadata": {},
   "outputs": [
    {
     "data": {
      "text/plain": [
       "10-element Vector{Float64}:\n",
       " 9.0\n",
       " 9.1\n",
       " 9.2\n",
       " 9.3\n",
       " 9.4\n",
       " 9.5\n",
       " 9.6\n",
       " 9.7\n",
       " 9.8\n",
       " 9.9"
      ]
     },
     "execution_count": 115,
     "metadata": {},
     "output_type": "execute_result"
    }
   ],
   "source": [
    "filter(1:0.1:10) do x\n",
    "    s = string(x)\n",
    "    occursin(\"9\", s) && startswith(s,\"9\")\n",
    "end"
   ]
  },
  {
   "cell_type": "markdown",
   "id": "985f1897-7da8-4e17-a689-8228eaa233bb",
   "metadata": {
    "jp-MarkdownHeadingCollapsed": true,
    "tags": []
   },
   "source": [
    "## Broadcasting"
   ]
  },
  {
   "cell_type": "code",
   "execution_count": 59,
   "id": "6988b0a6-37c6-4a1b-b933-2bf354e4522c",
   "metadata": {},
   "outputs": [
    {
     "data": {
      "text/plain": [
       "10-element Vector{Float64}:\n",
       " 0.8036975495291241\n",
       " 0.6265836061198407\n",
       " 0.21497956964461828\n",
       " 0.9681135669196467\n",
       " 0.2834052151602232\n",
       " 0.8007334709089806\n",
       " 0.31479121885402317\n",
       " 0.15381145738011004\n",
       " 0.9992835833742835\n",
       " 0.6831922446989733"
      ]
     },
     "execution_count": 59,
     "metadata": {},
     "output_type": "execute_result"
    }
   ],
   "source": [
    "x = rand(10)"
   ]
  },
  {
   "cell_type": "code",
   "execution_count": 63,
   "id": "0ba325ad-3ee1-499d-a1f4-e0ee125064e8",
   "metadata": {},
   "outputs": [
    {
     "data": {
      "text/plain": [
       "10-element Vector{Float64}:\n",
       " 2.803697549529124\n",
       " 2.6265836061198407\n",
       " 2.214979569644618\n",
       " 2.9681135669196466\n",
       " 2.283405215160223\n",
       " 2.8007334709089804\n",
       " 2.3147912188540234\n",
       " 2.15381145738011\n",
       " 2.9992835833742832\n",
       " 2.683192244698973"
      ]
     },
     "execution_count": 63,
     "metadata": {},
     "output_type": "execute_result"
    }
   ],
   "source": [
    "x .+ 2"
   ]
  },
  {
   "cell_type": "code",
   "execution_count": 65,
   "id": "06420c76-7492-4b4d-abd5-a2cdfb726337",
   "metadata": {},
   "outputs": [
    {
     "data": {
      "text/plain": [
       "10-element Vector{Float64}:\n",
       " 0.6459297511191189\n",
       " 0.39260701545814364\n",
       " 0.046216215364585284\n",
       " 0.9372438784538812\n",
       " 0.08031851598001241\n",
       " 0.6411740914339433\n",
       " 0.09909351146760151\n",
       " 0.023657964421393406\n",
       " 0.9985676800013485\n",
       " 0.46675164321682183"
      ]
     },
     "execution_count": 65,
     "metadata": {},
     "output_type": "execute_result"
    }
   ],
   "source": [
    "x .^ 2"
   ]
  },
  {
   "cell_type": "code",
   "execution_count": 60,
   "id": "2d4fd737-bf0a-45b7-a9fd-3b95ba1a29f8",
   "metadata": {},
   "outputs": [
    {
     "data": {
      "text/plain": [
       "b (generic function with 1 method)"
      ]
     },
     "execution_count": 60,
     "metadata": {},
     "output_type": "execute_result"
    }
   ],
   "source": [
    "b(x) = max(x,0.5)"
   ]
  },
  {
   "cell_type": "code",
   "execution_count": 61,
   "id": "23b33aea-ac3f-4549-994d-ad2c232f51d6",
   "metadata": {},
   "outputs": [
    {
     "data": {
      "text/plain": [
       "10-element Vector{Float64}:\n",
       " 0.8036975495291241\n",
       " 0.6265836061198407\n",
       " 0.5\n",
       " 0.9681135669196467\n",
       " 0.5\n",
       " 0.8007334709089806\n",
       " 0.5\n",
       " 0.5\n",
       " 0.9992835833742835\n",
       " 0.6831922446989733"
      ]
     },
     "execution_count": 61,
     "metadata": {},
     "output_type": "execute_result"
    }
   ],
   "source": [
    "b.(x)"
   ]
  },
  {
   "cell_type": "code",
   "execution_count": 66,
   "id": "58354c4b-a7f1-48e1-9c47-c58e611d8ae3",
   "metadata": {},
   "outputs": [
    {
     "data": {
      "text/plain": [
       "10-element Vector{Float64}:\n",
       " 0.5\n",
       " 0.5\n",
       " 0.21497956964461828\n",
       " 0.5\n",
       " 0.2834052151602232\n",
       " 0.5\n",
       " 0.31479121885402317\n",
       " 0.15381145738011004\n",
       " 0.5\n",
       " 0.5"
      ]
     },
     "execution_count": 66,
     "metadata": {},
     "output_type": "execute_result"
    }
   ],
   "source": [
    "min.(x,0.5)"
   ]
  },
  {
   "cell_type": "markdown",
   "id": "48ad311e-2730-4735-99d8-cd8331db971b",
   "metadata": {
    "jp-MarkdownHeadingCollapsed": true,
    "tags": []
   },
   "source": [
    "## Contextos y control de flujo"
   ]
  },
  {
   "cell_type": "code",
   "execution_count": 1,
   "id": "df09b1bc-1519-41dc-85a6-89b2003db78f",
   "metadata": {},
   "outputs": [
    {
     "data": {
      "text/plain": [
       "6"
      ]
     },
     "execution_count": 1,
     "metadata": {},
     "output_type": "execute_result"
    }
   ],
   "source": [
    " y = begin \n",
    "    x = 1:3\n",
    "    o = 1\n",
    "    for i in x\n",
    "        o *= i\n",
    "    end\n",
    "    o\n",
    "end"
   ]
  },
  {
   "cell_type": "code",
   "execution_count": 8,
   "id": "6bcf2991-20e2-4fd5-93f0-fa135930d0eb",
   "metadata": {},
   "outputs": [
    {
     "data": {
      "text/plain": [
       "6"
      ]
     },
     "execution_count": 8,
     "metadata": {},
     "output_type": "execute_result"
    }
   ],
   "source": [
    "o"
   ]
  },
  {
   "cell_type": "code",
   "execution_count": 12,
   "id": "052b2d36-d278-4cd2-9765-c5d8976f7242",
   "metadata": {},
   "outputs": [
    {
     "name": "stdout",
     "output_type": "stream",
     "text": [
      "o = 10\n"
     ]
    },
    {
     "data": {
      "text/plain": [
       "10"
      ]
     },
     "execution_count": 12,
     "metadata": {},
     "output_type": "execute_result"
    }
   ],
   "source": [
    "x = 5\n",
    "z = let \n",
    "    o = 5\n",
    "    if x < 2 && x != 0\n",
    "        println(\"$x < 2\")\n",
    "        o /= x\n",
    "    elseif x == 0\n",
    "        println(\"x == 0\")\n",
    "    else\n",
    "        o += x\n",
    "    end\n",
    "    println(\"o = $o\")\n",
    "    o\n",
    "end"
   ]
  },
  {
   "cell_type": "code",
   "execution_count": 13,
   "id": "af550af3-d25d-4940-9316-49dc17e6a4ec",
   "metadata": {},
   "outputs": [
    {
     "data": {
      "text/plain": [
       "6"
      ]
     },
     "execution_count": 13,
     "metadata": {},
     "output_type": "execute_result"
    }
   ],
   "source": [
    "o"
   ]
  },
  {
   "cell_type": "markdown",
   "id": "3e2c55bf-1fdf-40e4-9c35-f38c1ae4d9cd",
   "metadata": {
    "jp-MarkdownHeadingCollapsed": true,
    "tags": []
   },
   "source": [
    "## Macros"
   ]
  },
  {
   "cell_type": "code",
   "execution_count": 2,
   "id": "e8298d7a-447c-48d1-9cab-89dbc9005a4e",
   "metadata": {},
   "outputs": [
    {
     "data": {
      "text/html": [
       "sum(r::<b>AbstractRange{<:Real}</b>) in Base at <a href=\"https://github.com/JuliaLang/julia/tree/742b9abb4dd4621b667ec5bb3434b8b3602f96fd/base/range.jl#L1312\" target=\"_blank\">range.jl:1312</a>"
      ],
      "text/plain": [
       "sum(r::AbstractRange{<:Real}) in Base at range.jl:1312"
      ]
     },
     "execution_count": 2,
     "metadata": {},
     "output_type": "execute_result"
    }
   ],
   "source": [
    "@which sum(1:2)"
   ]
  },
  {
   "cell_type": "code",
   "execution_count": 7,
   "id": "7cdca0c0-a477-41ba-9691-512685bfc282",
   "metadata": {},
   "outputs": [
    {
     "name": "stdout",
     "output_type": "stream",
     "text": [
      "begin\n",
      "    x = 3\n",
      "    #= In[7]:1 =#\n",
      "    sum(1:x)\n",
      "end = 6\n"
     ]
    },
    {
     "data": {
      "text/plain": [
       "6"
      ]
     },
     "execution_count": 7,
     "metadata": {},
     "output_type": "execute_result"
    }
   ],
   "source": [
    "@show (x=3;sum(1:x);)"
   ]
  },
  {
   "cell_type": "code",
   "execution_count": 6,
   "id": "ebffac2f-2b66-43b8-af54-370aaaf019e5",
   "metadata": {},
   "outputs": [
    {
     "name": "stdout",
     "output_type": "stream",
     "text": [
      "  0.000004 seconds (1 allocation: 896 bytes)\n"
     ]
    },
    {
     "data": {
      "text/plain": [
       "52.10605332891696"
      ]
     },
     "execution_count": 6,
     "metadata": {},
     "output_type": "execute_result"
    }
   ],
   "source": [
    "@time sum(rand(100))"
   ]
  },
  {
   "cell_type": "code",
   "execution_count": 117,
   "id": "fc3fe231-79e3-4fad-b53d-f00f764237e4",
   "metadata": {},
   "outputs": [],
   "source": [
    "@edit sum(1:2)"
   ]
  },
  {
   "cell_type": "code",
   "execution_count": 14,
   "id": "27c0bafc-dd93-4a82-8f00-c2ad5225ade5",
   "metadata": {},
   "outputs": [
    {
     "data": {
      "text/latex": [
       "\\begin{verbatim}\n",
       "sum(itr; [init])\n",
       "\\end{verbatim}\n",
       "Returns the sum of all elements in a collection.\n",
       "\n",
       "The return type is \\texttt{Int} for signed integers of less than system word size, and \\texttt{UInt} for unsigned integers of less than system word size.  For all other arguments, a common return type is found to which all arguments are promoted.\n",
       "\n",
       "The value returned for empty \\texttt{itr} can be specified by \\texttt{init}. It must be the additive identity (i.e. zero) as it is unspecified whether \\texttt{init} is used for non-empty collections.\n",
       "\n",
       "\\begin{quote}\n",
       "\\textbf{compat}\n",
       "\n",
       "Julia 1.6\n",
       "\n",
       "Keyword argument \\texttt{init} requires Julia 1.6 or later.\n",
       "\n",
       "\\end{quote}\n",
       "See also: \\href{@ref}{\\texttt{reduce}}, \\href{@ref}{\\texttt{mapreduce}}, \\href{@ref}{\\texttt{count}}, \\href{@ref}{\\texttt{union}}.\n",
       "\n",
       "\\section{Examples}\n",
       "\\begin{verbatim}\n",
       "julia> sum(1:20)\n",
       "210\n",
       "\n",
       "julia> sum(1:20; init = 0.0)\n",
       "210.0\n",
       "\\end{verbatim}\n"
      ],
      "text/markdown": [
       "```\n",
       "sum(itr; [init])\n",
       "```\n",
       "\n",
       "Returns the sum of all elements in a collection.\n",
       "\n",
       "The return type is `Int` for signed integers of less than system word size, and `UInt` for unsigned integers of less than system word size.  For all other arguments, a common return type is found to which all arguments are promoted.\n",
       "\n",
       "The value returned for empty `itr` can be specified by `init`. It must be the additive identity (i.e. zero) as it is unspecified whether `init` is used for non-empty collections.\n",
       "\n",
       "!!! compat \"Julia 1.6\"\n",
       "    Keyword argument `init` requires Julia 1.6 or later.\n",
       "\n",
       "\n",
       "See also: [`reduce`](@ref), [`mapreduce`](@ref), [`count`](@ref), [`union`](@ref).\n",
       "\n",
       "# Examples\n",
       "\n",
       "```jldoctest\n",
       "julia> sum(1:20)\n",
       "210\n",
       "\n",
       "julia> sum(1:20; init = 0.0)\n",
       "210.0\n",
       "```\n"
      ],
      "text/plain": [
       "\u001b[36m  sum(itr; [init])\u001b[39m\n",
       "\n",
       "  Returns the sum of all elements in a collection.\n",
       "\n",
       "  The return type is \u001b[36mInt\u001b[39m for signed integers of less than system word size,\n",
       "  and \u001b[36mUInt\u001b[39m for unsigned integers of less than system word size. For all other\n",
       "  arguments, a common return type is found to which all arguments are\n",
       "  promoted.\n",
       "\n",
       "  The value returned for empty \u001b[36mitr\u001b[39m can be specified by \u001b[36minit\u001b[39m. It must be the\n",
       "  additive identity (i.e. zero) as it is unspecified whether \u001b[36minit\u001b[39m is used for\n",
       "  non-empty collections.\n",
       "\n",
       "\u001b[39m\u001b[1m  │ \u001b[22m\u001b[39m\u001b[1mJulia 1.6\u001b[22m\n",
       "\u001b[39m\u001b[1m  │\u001b[22m\n",
       "\u001b[39m\u001b[1m  │\u001b[22m  Keyword argument \u001b[36minit\u001b[39m requires Julia 1.6 or later.\n",
       "\n",
       "  See also: \u001b[36mreduce\u001b[39m, \u001b[36mmapreduce\u001b[39m, \u001b[36mcount\u001b[39m, \u001b[36munion\u001b[39m.\n",
       "\n",
       "\u001b[1m  Examples\u001b[22m\n",
       "\u001b[1m  ≡≡≡≡≡≡≡≡≡≡\u001b[22m\n",
       "\n",
       "\u001b[36m  julia> sum(1:20)\u001b[39m\n",
       "\u001b[36m  210\u001b[39m\n",
       "\u001b[36m  \u001b[39m\n",
       "\u001b[36m  julia> sum(1:20; init = 0.0)\u001b[39m\n",
       "\u001b[36m  210.0\u001b[39m"
      ]
     },
     "execution_count": 14,
     "metadata": {},
     "output_type": "execute_result"
    }
   ],
   "source": [
    "@doc sum([1,2])"
   ]
  },
  {
   "cell_type": "code",
   "execution_count": 118,
   "id": "ad41510a-1eaf-4c77-887e-1eb781e56a63",
   "metadata": {
    "tags": []
   },
   "outputs": [
    {
     "data": {
      "text/plain": [
       "quote\n",
       "    \u001b[90m#= timing.jl:216 =#\u001b[39m\n",
       "    while false\n",
       "        \u001b[90m#= timing.jl:216 =#\u001b[39m\n",
       "    end\n",
       "    \u001b[90m#= timing.jl:217 =#\u001b[39m\n",
       "    local var\"#32#stats\" = Base.gc_num()\n",
       "    \u001b[90m#= timing.jl:218 =#\u001b[39m\n",
       "    local var\"#34#elapsedtime\" = Base.time_ns()\n",
       "    \u001b[90m#= timing.jl:219 =#\u001b[39m\n",
       "    local var\"#35#compile_elapsedtime\" = Base.cumulative_compile_time_ns_before()\n",
       "    \u001b[90m#= timing.jl:220 =#\u001b[39m\n",
       "    local var\"#33#val\" = $(Expr(:tryfinally, :(sum(1:2)), quote\n",
       "    var\"#34#elapsedtime\" = Base.time_ns() - var\"#34#elapsedtime\"\n",
       "    \u001b[90m#= timing.jl:222 =#\u001b[39m\n",
       "    var\"#35#compile_elapsedtime\" = Base.cumulative_compile_time_ns_after() - var\"#35#compile_elapsedtime\"\n",
       "end))\n",
       "    \u001b[90m#= timing.jl:224 =#\u001b[39m\n",
       "    local var\"#36#diff\" = Base.GC_Diff(Base.gc_num(), var\"#32#stats\")\n",
       "    \u001b[90m#= timing.jl:225 =#\u001b[39m\n",
       "    Base.time_print(var\"#34#elapsedtime\", (var\"#36#diff\").allocd, (var\"#36#diff\").total_time, Base.gc_alloc_count(var\"#36#diff\"), var\"#35#compile_elapsedtime\", true)\n",
       "    \u001b[90m#= timing.jl:226 =#\u001b[39m\n",
       "    var\"#33#val\"\n",
       "end"
      ]
     },
     "execution_count": 118,
     "metadata": {},
     "output_type": "execute_result"
    }
   ],
   "source": [
    "@macroexpand @time sum(1:2)"
   ]
  },
  {
   "cell_type": "code",
   "execution_count": 119,
   "id": "30f9972b-c548-46aa-ace1-585439fe2863",
   "metadata": {},
   "outputs": [
    {
     "name": "stdout",
     "output_type": "stream",
     "text": [
      "MethodInstance for sum(::Vector{Float64})\n",
      "  from sum(a::AbstractArray; dims, kw...) in Base at reducedim.jl:889\n",
      "Arguments\n",
      "  #self#\u001b[36m::Core.Const(sum)\u001b[39m\n",
      "  a\u001b[36m::Vector{Float64}\u001b[39m\n",
      "Body\u001b[36m::Float64\u001b[39m\n",
      "\u001b[90m1 ─\u001b[39m      nothing\n",
      "\u001b[90m│  \u001b[39m %2 = Core.NamedTuple()\u001b[36m::Core.Const(NamedTuple())\u001b[39m\n",
      "\u001b[90m│  \u001b[39m %3 = Base.pairs(%2)\u001b[36m::Core.Const(Base.Pairs{Symbol, Union{}, Tuple{}, NamedTuple{(), Tuple{}}}())\u001b[39m\n",
      "\u001b[90m│  \u001b[39m %4 = Base.:(var\"#sum#738\")(Base.:(:), %3, #self#, a)\u001b[36m::Float64\u001b[39m\n",
      "\u001b[90m└──\u001b[39m      return %4\n",
      "\n"
     ]
    }
   ],
   "source": [
    "@code_warntype sum([0, 1.5, 1//3])"
   ]
  },
  {
   "cell_type": "markdown",
   "id": "92feb637-2817-4fc8-a932-87cb864c2cd9",
   "metadata": {
    "jp-MarkdownHeadingCollapsed": true,
    "tags": []
   },
   "source": [
    "## I/O"
   ]
  },
  {
   "cell_type": "code",
   "execution_count": 17,
   "id": "4f01b0e6-004f-478b-b7a5-e5d2137fa77a",
   "metadata": {},
   "outputs": [
    {
     "data": {
      "text/plain": [
       "IOStream(<file README.md>)"
      ]
     },
     "execution_count": 17,
     "metadata": {},
     "output_type": "execute_result"
    }
   ],
   "source": [
    "io = open(\"README.md\",\"r\") "
   ]
  },
  {
   "cell_type": "code",
   "execution_count": 18,
   "id": "5e898203-9b53-47a7-9445-d5d07aedb386",
   "metadata": {},
   "outputs": [
    {
     "data": {
      "text/plain": [
       "\"# Julia es practicidad\\r\\n\\r\\n![julia-dots-green-top](../../artefactos/imagenes/julia-dots_green_top.svg)\\r\\n\\r\\n## Guia\\r\\n\\r\\n```shell\\r\\n> julia --project=\\\".\\\"\\r\\n```\\r\\n\\r\\n```julia-repl\\r\\njulia> using IJulia\\r\\njulia> jupyterlab(dir=\\\".\\\")\\r\\n```\\r\\n\\r\\n## Uso de Librerias\\r\\n\\r\\n- Plots\\r\\n- DataFrames\" ⋯ 276 bytes ⋯ \"rlab-plotly\\r\\n```\\r\\n\\r\\n```julia-repl\\r\\njulia> notebook(dir=\\\".\\\")\\r\\n```\\r\\n\\r\\n## Materiales adicionales\\r\\n\\r\\n- Lista de diferencias especificas con otros lenguajes como Python, Matlab, R ... [Noteworthy differences](https://docs.julialang.org/en/v2/manual/noteworthy-differences/)\\r\\n\""
      ]
     },
     "execution_count": 18,
     "metadata": {},
     "output_type": "execute_result"
    }
   ],
   "source": [
    "content = read(io,String)"
   ]
  },
  {
   "cell_type": "code",
   "execution_count": 19,
   "id": "197f28ac-e1bf-4cf2-8b46-6ac48ae94ebd",
   "metadata": {},
   "outputs": [],
   "source": [
    "close(io)"
   ]
  },
  {
   "cell_type": "code",
   "execution_count": 26,
   "id": "1254f1f8-10dd-4b69-9180-21cb0f3bdc00",
   "metadata": {},
   "outputs": [],
   "source": [
    "# ?open"
   ]
  },
  {
   "cell_type": "code",
   "execution_count": 38,
   "id": "d4ccdfee-38d0-4dcb-a301-3e0dfb129c7c",
   "metadata": {},
   "outputs": [
    {
     "data": {
      "text/plain": [
       "32-element Vector{SubString{String}}:\n",
       " \"# Julia es practicidad\"\n",
       " \"![julia-dots-green-top](../../artefactos/imagenes/julia-dots_green_top.svg)\"\n",
       " \"## Guia\"\n",
       " \"```shell\"\n",
       " \"> julia --project=\\\".\\\"\"\n",
       " \"```\"\n",
       " \"```julia-repl\"\n",
       " \"julia> using IJulia\"\n",
       " \"julia> jupyterlab(dir=\\\".\\\")\"\n",
       " \"```\"\n",
       " \"## Uso de Librerias\"\n",
       " \"- Plots\"\n",
       " \"- DataFrames\"\n",
       " ⋮\n",
       " \"Conda.pip(\\\"install\\\", \\\"webio_jupyter_extension\\\")\"\n",
       " \"```\"\n",
       " \"Alternativamente\"\n",
       " \"```shell\"\n",
       " \"> conda activate \\\"PATH de conda\\\"\"\n",
       " \"> jupyter labextension install jupyterlab-plotly\"\n",
       " \"```\"\n",
       " \"```julia-repl\"\n",
       " \"julia> notebook(dir=\\\".\\\")\"\n",
       " \"```\"\n",
       " \"## Materiales adicionales\"\n",
       " \"- Lista de diferencias especifi\" ⋯ 110 bytes ⋯ \"anual/noteworthy-differences/)\""
      ]
     },
     "execution_count": 38,
     "metadata": {},
     "output_type": "execute_result"
    }
   ],
   "source": [
    "lines = open(\"README.md\",\"r\") do io \n",
    "    content = read(io,String)\n",
    "    lines = split(content,\"\\r\\n\")\n",
    "    filter(x-> length(x) > 0, lines)\n",
    "end"
   ]
  },
  {
   "cell_type": "markdown",
   "id": "7a63b97b-b4c9-47a2-b428-08f51689a90d",
   "metadata": {},
   "source": [
    "### Piping"
   ]
  },
  {
   "cell_type": "code",
   "execution_count": 120,
   "id": "27685646-922a-499c-aee7-b8af7b55865e",
   "metadata": {},
   "outputs": [
    {
     "data": {
      "text/plain": [
       "67"
      ]
     },
     "execution_count": 120,
     "metadata": {},
     "output_type": "execute_result"
    }
   ],
   "source": [
    "open(\"README.md\",\"r\") |> (io-> read(io, String)) |> (x-> split(x,\"\\r\\n\")) |> (l -> filter(x-> length(x) > 0, l)) |> length"
   ]
  }
 ],
 "metadata": {
  "kernelspec": {
   "display_name": "Julia 1.7.3",
   "language": "julia",
   "name": "julia-1.7"
  },
  "language_info": {
   "file_extension": ".jl",
   "mimetype": "application/julia",
   "name": "julia",
   "version": "1.7.3"
  }
 },
 "nbformat": 4,
 "nbformat_minor": 5
}
