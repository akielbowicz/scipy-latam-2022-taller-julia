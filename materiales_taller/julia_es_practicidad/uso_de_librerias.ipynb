{
 "cells": [
  {
   "cell_type": "markdown",
   "id": "06523158-c09a-4e54-9442-17a5582297ab",
   "metadata": {},
   "source": [
    "# Julia es practicidad\n",
    "\n",
    "## Notebook 2 - Uso de librerías"
   ]
  },
  {
   "cell_type": "code",
   "execution_count": 1,
   "id": "e6665eef-c39f-498c-8451-8647de3c51e8",
   "metadata": {},
   "outputs": [],
   "source": [
    "using Pkg"
   ]
  },
  {
   "cell_type": "code",
   "execution_count": 2,
   "id": "33bfd58f-6cd1-4f3c-b3c9-ff5da95499b3",
   "metadata": {},
   "outputs": [
    {
     "name": "stdout",
     "output_type": "stream",
     "text": [
      "\u001b[32m\u001b[1m      Status\u001b[22m\u001b[39m `C:\\Users\\augus\\dev\\gh\\akielbowicz\\scipy-latam-2022-taller-julia\\materiales_taller\\julia_es_practicidad\\Project.toml`\n",
      " \u001b[90m [336ed68f] \u001b[39mCSV v0.10.4\n",
      " \u001b[90m [8f4d0f93] \u001b[39mConda v1.7.0\n",
      " \u001b[90m [a93c6f00] \u001b[39mDataFrames v1.3.5\n",
      " \u001b[90m [7073ff75] \u001b[39mIJulia v1.23.3\n",
      " \u001b[90m [f0f68f2c] \u001b[39mPlotlyJS v0.18.8\n",
      " \u001b[90m [91a5bcdd] \u001b[39mPlots v1.33.0\n",
      " \u001b[90m [f3b207a7] \u001b[39mStatsPlots v0.15.3\n"
     ]
    }
   ],
   "source": [
    "pkg\"st\""
   ]
  }
 ],
 "metadata": {
  "@webio": {
   "lastCommId": "8593f1be-d765-42c8-a396-1c6580cdca1a",
   "lastKernelId": "87778702-baa4-4d97-a22d-498126ab24e3"
  },
  "kernelspec": {
   "display_name": "Julia 1.7.3",
   "language": "julia",
   "name": "julia-1.7"
  },
  "language_info": {
   "file_extension": ".jl",
   "mimetype": "application/julia",
   "name": "julia",
   "version": "1.7.3"
  }
 },
 "nbformat": 4,
 "nbformat_minor": 5
}
