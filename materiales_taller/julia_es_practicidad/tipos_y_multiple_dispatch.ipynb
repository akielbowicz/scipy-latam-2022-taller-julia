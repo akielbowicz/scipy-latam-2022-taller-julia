{
 "cells": [
  {
   "cell_type": "markdown",
   "id": "38db180c-8779-4e3f-bf72-c96b89169224",
   "metadata": {},
   "source": [
    "# Tipos y Multiple Dispatch"
   ]
  }
 ],
 "metadata": {
  "kernelspec": {
   "display_name": "Julia 1.7.3",
   "language": "julia",
   "name": "julia-1.7"
  },
  "language_info": {
   "file_extension": ".jl",
   "mimetype": "application/julia",
   "name": "julia",
   "version": "1.7.3"
  }
 },
 "nbformat": 4,
 "nbformat_minor": 5
}
