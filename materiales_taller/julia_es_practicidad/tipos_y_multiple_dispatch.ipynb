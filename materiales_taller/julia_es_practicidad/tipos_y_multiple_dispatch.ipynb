{
 "cells": [
  {
   "cell_type": "markdown",
   "id": "38db180c-8779-4e3f-bf72-c96b89169224",
   "metadata": {},
   "source": [
    "# Tipos y Multiple Dispatch"
   ]
  },
  {
   "cell_type": "code",
   "execution_count": null,
   "id": "b1fc93dc-95cc-411f-bb96-23c36c818ec7",
   "metadata": {},
   "outputs": [],
   "source": [
    "saludar(mensaje) = \"Hola \" * mensaje"
   ]
  },
  {
   "cell_type": "code",
   "execution_count": null,
   "id": "b6d273fa-6df3-479b-a6a6-72f01e08324d",
   "metadata": {},
   "outputs": [],
   "source": [
    "saludar(\"SciPy\")"
   ]
  },
  {
   "cell_type": "code",
   "execution_count": null,
   "id": "ed60ecca-6bd1-4ca9-bcfa-9c9af1cfd22e",
   "metadata": {},
   "outputs": [],
   "source": [
    "saludar(1)"
   ]
  },
  {
   "cell_type": "code",
   "execution_count": null,
   "id": "e74f50e6-e86a-459f-b125-6ae0914735db",
   "metadata": {},
   "outputs": [],
   "source": [
    "methods(saludar)"
   ]
  },
  {
   "cell_type": "code",
   "execution_count": null,
   "id": "ee12396b-e3e6-4a70-aeaf-8152ec6eb542",
   "metadata": {},
   "outputs": [],
   "source": [
    "methods(*)"
   ]
  },
  {
   "cell_type": "code",
   "execution_count": null,
   "id": "a4bb77e0-fd41-47aa-be87-f2495df50956",
   "metadata": {},
   "outputs": [],
   "source": [
    "Base.:*(s::String,i::Int) = s * string(i)"
   ]
  },
  {
   "cell_type": "code",
   "execution_count": null,
   "id": "cc2e8718-6bf7-4fcf-9d0e-34e0b10bbbe3",
   "metadata": {},
   "outputs": [],
   "source": [
    "Base.:*(i::Int,s::String) = s^i"
   ]
  },
  {
   "cell_type": "code",
   "execution_count": null,
   "id": "b337c29f-1d8e-48c8-8b5c-3639fcc1eea0",
   "metadata": {},
   "outputs": [],
   "source": [
    "\"s\" * 1"
   ]
  },
  {
   "cell_type": "code",
   "execution_count": null,
   "id": "7bafbe1f-6e6e-486a-9c48-3a2045efeedd",
   "metadata": {},
   "outputs": [],
   "source": [
    "10 * \"s\""
   ]
  },
  {
   "cell_type": "code",
   "execution_count": null,
   "id": "ddaf15fb-32d2-491e-a651-cb9fad67bef9",
   "metadata": {},
   "outputs": [],
   "source": [
    "abstract type ASD end"
   ]
  },
  {
   "cell_type": "code",
   "execution_count": null,
   "id": "f904531f-8a2f-4acc-91e4-0d22b4cec989",
   "metadata": {},
   "outputs": [],
   "source": [
    "struct FGH <: ASD\n",
    "   nombre::AbstractString\n",
    "   elementos::Array{Number}\n",
    "end"
   ]
  },
  {
   "cell_type": "code",
   "execution_count": null,
   "id": "8642ce57-c1e3-4994-880f-058028e9bb24",
   "metadata": {},
   "outputs": [],
   "source": [
    "x = FGH(\"HOLA\",[1,1.0,0.5])"
   ]
  },
  {
   "cell_type": "code",
   "execution_count": null,
   "id": "f215d3f0-2c14-4573-ab98-3fb28a277d1a",
   "metadata": {},
   "outputs": [],
   "source": [
    "show(x)"
   ]
  },
  {
   "cell_type": "code",
   "execution_count": null,
   "id": "c8261862-726d-4073-8e1e-8ff94d8d72d1",
   "metadata": {},
   "outputs": [],
   "source": [
    "Base.show(e::ASD) = show(\"ASD\")"
   ]
  },
  {
   "cell_type": "code",
   "execution_count": null,
   "id": "3df4b39a-0eb5-4cd8-a1d7-5905c123cbb4",
   "metadata": {},
   "outputs": [],
   "source": [
    "show(x)"
   ]
  },
  {
   "cell_type": "code",
   "execution_count": null,
   "id": "819dad9f-3124-4b50-a21e-6d53ddb79c16",
   "metadata": {},
   "outputs": [],
   "source": [
    "Base.show(e::FGH) = show(\"FGH \" * lowercase(e.nombre) * \" \" * string(length(e.elementos)))"
   ]
  },
  {
   "cell_type": "code",
   "execution_count": null,
   "id": "af7119be-467d-4f36-bf93-5f10bb28dedd",
   "metadata": {},
   "outputs": [],
   "source": [
    "show(x)"
   ]
  },
  {
   "cell_type": "code",
   "execution_count": null,
   "id": "cd4898d8-fb6b-40bc-87c6-e426c9753c17",
   "metadata": {},
   "outputs": [],
   "source": [
    "Base.:+(x::FGH,y::FGH) = FGH( x.nombre * \" \" * y.nombre, x.elementos + y.elementos  )"
   ]
  },
  {
   "cell_type": "code",
   "execution_count": null,
   "id": "4ed66683-6e74-44bd-8b72-f700a6aa85d3",
   "metadata": {},
   "outputs": [],
   "source": [
    "y = FGH(\"mundo\", [1,2,3])"
   ]
  },
  {
   "cell_type": "code",
   "execution_count": null,
   "id": "42647d99-ed5f-4ea8-bbdb-d33c9d7803f0",
   "metadata": {},
   "outputs": [],
   "source": [
    "x + y"
   ]
  }
 ],
 "metadata": {
  "kernelspec": {
   "display_name": "Julia 1.7.3",
   "language": "julia",
   "name": "julia-1.7"
  },
  "language_info": {
   "file_extension": ".jl",
   "mimetype": "application/julia",
   "name": "julia",
   "version": "1.7.3"
  }
 },
 "nbformat": 4,
 "nbformat_minor": 5
}
