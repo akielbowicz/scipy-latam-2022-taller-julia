{
 "cells": [
  {
   "cell_type": "markdown",
   "id": "5e4110ed-b8b7-4304-9099-3a631bbd72ac",
   "metadata": {
    "tags": []
   },
   "source": [
    "# Julia es practicidad"
   ]
  },
  {
   "cell_type": "markdown",
   "id": "b5b5d089-3883-4f8c-a831-28b661770056",
   "metadata": {
    "tags": []
   },
   "source": [
    "## Elementos básicos del lenguaje\n",
    "\n",
    "[Documentación oficial](https://docs.julialang.org/en/v1/)"
   ]
  },
  {
   "cell_type": "markdown",
   "id": "7b987dc7-6815-452c-945f-c93e428e0026",
   "metadata": {
    "tags": []
   },
   "source": [
    "### Booleanos"
   ]
  },
  {
   "cell_type": "markdown",
   "id": "58bacd06-2ec3-4c73-8840-0abbf957a09f",
   "metadata": {
    "tags": []
   },
   "source": [
    "### Números"
   ]
  },
  {
   "cell_type": "markdown",
   "id": "8db60048-1910-4c56-b63d-1164cbd0be9c",
   "metadata": {
    "tags": []
   },
   "source": [
    "### Caracteres y Cadenas (*Strings*)"
   ]
  },
  {
   "cell_type": "markdown",
   "id": "9974a820-e4e1-4fdb-ab41-b65a8ec3a6b0",
   "metadata": {
    "tags": []
   },
   "source": [
    "### Símbolos "
   ]
  },
  {
   "cell_type": "markdown",
   "id": "d33c5dea-2dfd-4d1b-8501-62647f054009",
   "metadata": {
    "tags": []
   },
   "source": [
    "## Colecciones y Estructuras de Datos"
   ]
  },
  {
   "cell_type": "markdown",
   "id": "b9ad1b63-1dfb-4ab4-9f68-07a7402e16df",
   "metadata": {
    "tags": []
   },
   "source": [
    "### Arreglos (*Arrays*), Matrices y Vectores"
   ]
  },
  {
   "cell_type": "markdown",
   "id": "b620d83c-936a-4e03-b165-ebea3516a59d",
   "metadata": {
    "tags": []
   },
   "source": [
    "### Tuplas, Diccionarios y *Sets*"
   ]
  },
  {
   "cell_type": "markdown",
   "id": "325b5cb4-ec3a-44ae-af89-288849e930fb",
   "metadata": {
    "tags": []
   },
   "source": [
    "### Structs"
   ]
  },
  {
   "cell_type": "markdown",
   "id": "9dfd419d-e29f-4da3-b822-b01b52575c4d",
   "metadata": {
    "tags": []
   },
   "source": [
    "### Rangos"
   ]
  },
  {
   "cell_type": "markdown",
   "id": "d207179e-2a05-4805-8b17-c34a95248243",
   "metadata": {
    "tags": []
   },
   "source": [
    "## Iteraciones"
   ]
  },
  {
   "cell_type": "markdown",
   "id": "3ae45c10-0e7b-485a-8be3-8cba53df4069",
   "metadata": {
    "tags": []
   },
   "source": [
    "## Indexación y *slicing*"
   ]
  },
  {
   "cell_type": "markdown",
   "id": "e35ea7f1-dc5c-4d73-8eff-a59fc7bb109a",
   "metadata": {
    "tags": []
   },
   "source": [
    "## Funciones"
   ]
  },
  {
   "cell_type": "markdown",
   "id": "47f18da9-fddb-4330-b1bd-d7edcf8747df",
   "metadata": {
    "tags": []
   },
   "source": [
    "### Funciones útiles"
   ]
  },
  {
   "cell_type": "markdown",
   "id": "1a82103c-4d28-4995-8852-66ca0ed25384",
   "metadata": {},
   "source": [
    "#### Matemáticas"
   ]
  },
  {
   "cell_type": "markdown",
   "id": "b798e2fe-a089-4675-9fcb-30f811030c6d",
   "metadata": {},
   "source": [
    "#### Patrones de Programación Funcional"
   ]
  },
  {
   "cell_type": "markdown",
   "id": "bd2b3294-ac55-4351-8a4e-76f74bfce35d",
   "metadata": {},
   "source": [
    "#### Utilidades"
   ]
  },
  {
   "cell_type": "markdown",
   "id": "85d0526f-e902-4a9b-8617-12fa128136b0",
   "metadata": {},
   "source": [
    "#### Notación de **do**  "
   ]
  },
  {
   "cell_type": "markdown",
   "id": "985f1897-7da8-4e17-a689-8228eaa233bb",
   "metadata": {
    "tags": []
   },
   "source": [
    "## Broadcasting"
   ]
  },
  {
   "cell_type": "markdown",
   "id": "48ad311e-2730-4735-99d8-cd8331db971b",
   "metadata": {
    "tags": []
   },
   "source": [
    "## Contextos y control de flujo"
   ]
  },
  {
   "cell_type": "markdown",
   "id": "3e2c55bf-1fdf-40e4-9c35-f38c1ae4d9cd",
   "metadata": {
    "jp-MarkdownHeadingCollapsed": true,
    "tags": []
   },
   "source": [
    "## Macros"
   ]
  },
  {
   "cell_type": "code",
   "execution_count": null,
   "id": "e8298d7a-447c-48d1-9cab-89dbc9005a4e",
   "metadata": {},
   "outputs": [],
   "source": [
    "@which sum(1:2)"
   ]
  },
  {
   "cell_type": "code",
   "execution_count": null,
   "id": "7cdca0c0-a477-41ba-9691-512685bfc282",
   "metadata": {},
   "outputs": [],
   "source": [
    "@show (x=3;sum(1:x);)"
   ]
  },
  {
   "cell_type": "code",
   "execution_count": null,
   "id": "ebffac2f-2b66-43b8-af54-370aaaf019e5",
   "metadata": {},
   "outputs": [],
   "source": [
    "@time sum(rand(100))"
   ]
  },
  {
   "cell_type": "code",
   "execution_count": null,
   "id": "fc3fe231-79e3-4fad-b53d-f00f764237e4",
   "metadata": {},
   "outputs": [],
   "source": [
    "@edit sum(1:2)"
   ]
  },
  {
   "cell_type": "code",
   "execution_count": null,
   "id": "27c0bafc-dd93-4a82-8f00-c2ad5225ade5",
   "metadata": {},
   "outputs": [],
   "source": [
    "@doc sum([1,2])"
   ]
  },
  {
   "cell_type": "code",
   "execution_count": null,
   "id": "ad41510a-1eaf-4c77-887e-1eb781e56a63",
   "metadata": {
    "tags": []
   },
   "outputs": [],
   "source": [
    "@macroexpand @time sum(1:2)"
   ]
  },
  {
   "cell_type": "code",
   "execution_count": null,
   "id": "30f9972b-c548-46aa-ace1-585439fe2863",
   "metadata": {},
   "outputs": [],
   "source": [
    "@code_warntype sum([0, 1.5, 1//3])"
   ]
  },
  {
   "cell_type": "markdown",
   "id": "92feb637-2817-4fc8-a932-87cb864c2cd9",
   "metadata": {
    "tags": []
   },
   "source": [
    "## I/O"
   ]
  },
  {
   "cell_type": "markdown",
   "id": "7a63b97b-b4c9-47a2-b428-08f51689a90d",
   "metadata": {},
   "source": [
    "### Piping"
   ]
  }
 ],
 "metadata": {
  "kernelspec": {
   "display_name": "Julia 1.7.3",
   "language": "julia",
   "name": "julia-1.7"
  },
  "language_info": {
   "file_extension": ".jl",
   "mimetype": "application/julia",
   "name": "julia",
   "version": "1.7.3"
  }
 },
 "nbformat": 4,
 "nbformat_minor": 5
}
